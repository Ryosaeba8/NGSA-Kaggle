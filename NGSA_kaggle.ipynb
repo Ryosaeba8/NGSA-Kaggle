{
 "cells": [
  {
   "cell_type": "markdown",
   "metadata": {},
   "source": [
    "### NGSA KAGGLE CHALLENGE : MISSING LINK PREDICTION\n",
    "\n",
    "#### Team Name : Joel&Fatma&Joseph&Brice"
   ]
  },
  {
   "cell_type": "code",
   "execution_count": 1,
   "metadata": {},
   "outputs": [],
   "source": [
    "import random\n",
    "import numpy as np\n",
    "import igraph\n",
    "from sklearn import svm\n",
    "from sklearn.feature_extraction.text import TfidfVectorizer\n",
    "from sklearn.metrics.pairwise import linear_kernel\n",
    "from sklearn import preprocessing\n",
    "import nltk\n",
    "import csv"
   ]
  },
  {
   "cell_type": "markdown",
   "metadata": {},
   "source": [
    "## Chargement des fichiers et séparation train_test_split"
   ]
  },
  {
   "cell_type": "code",
   "execution_count": 2,
   "metadata": {},
   "outputs": [],
   "source": [
    "with open(\"testing_set.txt\", \"r\") as f:\n",
    "    reader = csv.reader(f)\n",
    "    testing_set  = list(reader)\n",
    "\n",
    "testing_set = [element[0].split(\" \") for element in testing_set]\n",
    "\n",
    "with open(\"training_set.txt\", \"r\") as f:\n",
    "    reader = csv.reader(f)\n",
    "    training_set  = list(reader)\n",
    "\n",
    "training_set = [element[0].split(\" \") for element in training_set]\n",
    "y = [elt[-1] for elt in training_set]\n",
    "y = np.array(y).astype(int)\n",
    "with open(\"node_information.csv\", \"r\") as f:\n",
    "    reader = csv.reader(f)\n",
    "    node_info  = list(reader)\n",
    "\n",
    "IDs = [element[0] for element in node_info]"
   ]
  },
  {
   "cell_type": "code",
   "execution_count": 3,
   "metadata": {},
   "outputs": [],
   "source": [
    "## idée rajouter titre à l'abstract\n",
    "corpus = [element[5] + ' ' + element[2].lower() for element in node_info]\n",
    "from nltk.tokenize import word_tokenize\n",
    "from nltk.corpus import stopwords\n",
    "from nltk.stem import PorterStemmer\n",
    "import nltk\n",
    "#nltk.download('stopwords'); nltk.download('punkt'); nltk.download('wordnet')\n",
    "stemmer = PorterStemmer()\n",
    "stop_words = set(stopwords.words('english'))\n",
    "def tokenize(text) :\n",
    "    tokens = word_tokenize(text)\n",
    "    result = [stemmer.stem(i) for i in tokens if((i.isalpha()) & (i not in stop_words)) ]\n",
    "    return ' '.join(result)\n",
    "## paralellisation de la lemmatisation des textes\n",
    "from multiprocessing import Pool\n",
    "with Pool(8) as p: \n",
    "    corpus_new = p.map(tokenize, corpus)\n",
    "\n",
    "## création d'un dataframe pour stocker les informations des noeuds\n",
    "dico_node_info = {elt[0]: {'pub_year': int(elt[1]), 'authors' : elt[3].split(','),\n",
    "                                'abstract' : corpus_new[i].split()} for i, elt in enumerate(node_info)}"
   ]
  },
  {
   "cell_type": "markdown",
   "metadata": {},
   "source": [
    "### Suppression volontaire de quelques liens pour valider le modèle"
   ]
  },
  {
   "cell_type": "code",
   "execution_count": 4,
   "metadata": {},
   "outputs": [
    {
     "name": "stderr",
     "output_type": "stream",
     "text": [
      "  0%|          | 0/335130 [00:00<?, ?it/s]\n"
     ]
    }
   ],
   "source": [
    "import pandas as pd\n",
    "import warnings\n",
    "warnings.simplefilter('ignore')\n",
    "data_ = pd.DataFrame({'node_1':[int(elt[0]) for elt in training_set], \n",
    "                     'node_2':[int(elt[1]) for elt in training_set],\n",
    "                    'link' : [int(elt[2]) for elt in training_set]})\n",
    "#fb_df_temp = data_[data_.link == 1]\n",
    "#fb_df_temp.link = 1 - fb_df_temp.link\n",
    "#fb_df_temp.columns = ['node_2', 'node_1', 'link']\n",
    "\n",
    "#data_ = data_.append(fb_df_temp)\n",
    "import networkx as nx\n",
    "import tqdm\n",
    "fb_df_temp = data_[data_.link == 1]\n",
    "initial_node_count = len(set(fb_df_temp.node_1.unique()).union(set(fb_df_temp.node_2.unique())))\n",
    "# empty list to store removable links\n",
    "omissible_links_index = []\n",
    "for i in tqdm.tqdm(data_[data_.link == 1].index.values):\n",
    "    break\n",
    "    # remove a node pair and build a new graph\n",
    "    tmp = fb_df_temp.drop(index = i) \n",
    "    all_nodes = set(tmp.node_1.unique()).union(set(tmp.node_2.unique()))\n",
    "    if len(all_nodes) == initial_node_count :\n",
    "        omissible_links_index.append(i)\n",
    "        fb_df_temp = fb_df_temp.drop(index = i)        \n",
    "    else :\n",
    "        pass\n",
    "    if len(omissible_links_index) == 15000 :\n",
    "        break\n",
    "#np.save('omissible.npy', omissible_links_index)\n",
    "# omissible_links_index = np.load('omissible.npy')[:15000]\n",
    "fb_df_partial = data_[data_.link == 1].drop(index = omissible_links_index).drop(columns=['link'])"
   ]
  },
  {
   "cell_type": "code",
   "execution_count": 5,
   "metadata": {},
   "outputs": [],
   "source": [
    "all_nodes = set(fb_df_partial.node_1.unique()).union(set(fb_df_partial.node_2.unique()))\n",
    "nodes_bizz = [node for node in dico_node_info.keys() if int(node) not in all_nodes]"
   ]
  },
  {
   "cell_type": "code",
   "execution_count": 23,
   "metadata": {},
   "outputs": [],
   "source": [
    "G_data = nx.from_pandas_edgelist(fb_df_partial, \"node_1\", \"node_2\", create_using=nx.DiGraph())\n",
    "G_data.add_nodes_from(nodes_bizz)"
   ]
  },
  {
   "cell_type": "code",
   "execution_count": 7,
   "metadata": {},
   "outputs": [
    {
     "data": {
      "text/plain": [
       "27770"
      ]
     },
     "execution_count": 7,
     "metadata": {},
     "output_type": "execute_result"
    }
   ],
   "source": [
    "len(G_data)"
   ]
  },
  {
   "cell_type": "code",
   "execution_count": 8,
   "metadata": {},
   "outputs": [],
   "source": [
    "all_pairs = [tuple(elt[:2]) for elt in np.array(training_set).astype(int)] +\\\n",
    "            [tuple(elt[:2]) for elt in np.array(testing_set).astype(int)]"
   ]
  },
  {
   "cell_type": "code",
   "execution_count": 9,
   "metadata": {},
   "outputs": [
    {
     "name": "stdout",
     "output_type": "stream",
     "text": [
      "train :  600512\n",
      "val : 15000\n"
     ]
    }
   ],
   "source": [
    "pairs_train = [tuple(elt[0 : 2]) for i, elt in enumerate(training_set) if i not in omissible_links_index]\n",
    "y_train = [int(elt[-1]) for i, elt in enumerate(training_set) if i not in omissible_links_index]\n",
    "print('train : ', len(pairs_train))\n",
    "\n",
    "pairs_val = [tuple(elt[0 : 2]) for i, elt in enumerate(training_set) if i in omissible_links_index]\n",
    "y_val = np.array([int(elt[-1]) for i, elt in enumerate(training_set) if i in omissible_links_index])\n",
    "print('val :', len(pairs_val))\n",
    "\n",
    "y_train = np.array(y_train)\n",
    "y_val = np.array(y_val)"
   ]
  },
  {
   "cell_type": "markdown",
   "metadata": {},
   "source": [
    "## Extraction des features"
   ]
  },
  {
   "cell_type": "markdown",
   "metadata": {},
   "source": [
    "### Working with attributes of nodes"
   ]
  },
  {
   "cell_type": "code",
   "execution_count": 10,
   "metadata": {},
   "outputs": [
    {
     "data": {
      "text/plain": [
       "(27770, 8868)"
      ]
     },
     "execution_count": 10,
     "metadata": {},
     "output_type": "execute_result"
    }
   ],
   "source": [
    "### TF-IDF pour la similarité entre abstract + titre\n",
    "vectorizer = TfidfVectorizer(decode_error='ignore', smooth_idf=False, stop_words=stop_words,\n",
    "                      encoding='utf-8', min_df = 2, max_df=5000)\n",
    "# each row is a node in the order of node_info\n",
    "corpus_idf = vectorizer.fit_transform(corpus_new)\n",
    "corpus_idf.shape"
   ]
  },
  {
   "cell_type": "code",
   "execution_count": 11,
   "metadata": {},
   "outputs": [
    {
     "name": "stdout",
     "output_type": "stream",
     "text": [
      "1.6403697782720512 % des delta years < 0 sont connectés\n"
     ]
    }
   ],
   "source": [
    "## Etude du delta entre les années\n",
    "tmp_ = pd.DataFrame.from_dict(dico_node_info).T[['pub_year', 'authors']]\n",
    "tmp_['node_1'] = tmp_.index.astype(int)\n",
    "tmp = pd.merge(tmp_, data_, on='node_1')\n",
    "tmp = tmp.rename(columns = {\"pub_year\":\"pub_year_1\"})\n",
    "tmp_ = tmp_.rename(columns = {\"node_1\":\"node_2\"})\n",
    "tmp = pd.merge(tmp_, tmp, on='node_2')\n",
    "tmp = tmp.rename(columns = {\"pub_year\":\"pub_year_2\"})\n",
    "tmp['diff_year'] = tmp.pub_year_1 - tmp.pub_year_2\n",
    "x = 100*( len(tmp[(tmp.diff_year < 0 ) & (tmp.link == 1)])/(tmp.diff_year < 0 ).sum() )\n",
    "print(x, \"% des delta years < 0 sont connectés\")"
   ]
  },
  {
   "cell_type": "code",
   "execution_count": 12,
   "metadata": {},
   "outputs": [],
   "source": [
    "## Doc Embedding of the abstracts\n",
    "from gensim.test.utils import common_texts\n",
    "from gensim.models.doc2vec import Doc2Vec, TaggedDocument\n",
    "documents = [TaggedDocument(doc, [i]) for i, doc in enumerate(corpus_new)]\n",
    "model = Doc2Vec(documents, vector_size=64, window=2, min_count=1, workers=7)\n",
    "model.train(documents, total_examples=model.corpus_count, epochs=100)\n",
    "fname ='doc2vec'\n",
    "model.save(fname)\n",
    "model = Doc2Vec.load(fname) "
   ]
  },
  {
   "cell_type": "code",
   "execution_count": 13,
   "metadata": {},
   "outputs": [
    {
     "name": "stderr",
     "output_type": "stream",
     "text": [
      "100%|██████████| 27770/27770 [01:29<00:00, 309.56it/s]\n"
     ]
    }
   ],
   "source": [
    "abstr_embs = {} \n",
    "for source in tqdm.tqdm (dico_node_info.keys()) :\n",
    "    abstr_embs[source] = model.infer_vector(dico_node_info[source]['abstract'])\n",
    "def compute_similarity_emb(vector_s, vector_t):\n",
    "    sim = np.dot(vector_s, vector_t)/(np.linalg.norm(vector_s)*np.linalg.norm(vector_t))\n",
    "    return sim"
   ]
  },
  {
   "cell_type": "code",
   "execution_count": 14,
   "metadata": {},
   "outputs": [],
   "source": [
    "def get_features(tuple_to_process) : \n",
    "    ret = []\n",
    "    source = tuple_to_process[0]\n",
    "    target = tuple_to_process[1]\n",
    "    \n",
    "    source_info = dico_node_info[source]\n",
    "    target_info = dico_node_info[target]\n",
    "    \n",
    "    source_abstract = set(source_info['abstract'])\n",
    "    target_abstract = set(target_info['abstract'])\n",
    "    \n",
    "    source_auth = set(source_info['authors'])\n",
    "    target_auth = set(target_info['authors'])\n",
    "    \n",
    "    ## delta entre dates de publication\n",
    "    delta_year = int(source_info['pub_year']) - int(target_info['pub_year'])\n",
    "    \n",
    "    ## cosine similiarity et intersection auteurs abstracts\n",
    "    common_words = len(source_abstract.intersection(target_abstract))/(len(source_abstract.union(target_abstract)))\n",
    "    common_auths = len(source_auth.intersection(target_auth))/(len(source_auth.union(target_auth)))\n",
    "    \n",
    "    cosine_sim = corpus_idf[IDs.index(source)].dot( \n",
    "                        corpus_idf[IDs.index(target)].T).toarray()[0][0] ## les vecteurs sont déjà normés \n",
    "    \n",
    "    ret.append(common_words)\n",
    "    ret.append(cosine_sim) ## tf-idf similarity\n",
    "    ret.append(delta_year)\n",
    "    ret.append(common_auths)\n",
    "    ret.append(compute_similarity_emb(abstr_embs[source], abstr_embs[target]))\n",
    "    \n",
    "    return np.array(ret)"
   ]
  },
  {
   "cell_type": "markdown",
   "metadata": {},
   "source": [
    "### features liées à la structure du graphe"
   ]
  },
  {
   "cell_type": "code",
   "execution_count": 15,
   "metadata": {},
   "outputs": [],
   "source": [
    "def common_neighbors(G, ebunch = None):\n",
    "    u = ebunch[0]\n",
    "    v = ebunch[1]\n",
    "    if str(u) in nodes_bizz :\n",
    "        u = str(u)\n",
    "    if str(v) in nodes_bizz :\n",
    "        v = str(v)\n",
    "    common_neighbors =  [w for w in G[u] if w in G[v] and w not in (u, v)]\n",
    "    return common_neighbors"
   ]
  },
  {
   "cell_type": "code",
   "execution_count": 16,
   "metadata": {
    "scrolled": true
   },
   "outputs": [
    {
     "name": "stderr",
     "output_type": "stream",
     "text": [
      "100%|██████████| 648160/648160 [00:22<00:00, 29168.33it/s]\n"
     ]
    }
   ],
   "source": [
    "dico_common_neighbors = {}\n",
    "for elt in tqdm.tqdm(all_pairs) :\n",
    "    dico_common_neighbors[elt] = common_neighbors(G_data, elt)"
   ]
  },
  {
   "cell_type": "code",
   "execution_count": 17,
   "metadata": {},
   "outputs": [],
   "source": [
    "## Graph similarity measures\n",
    "def resource_allocation_index(G, ebunch=None):\n",
    "    if ebunch is None:\n",
    "        ebunch = nx.non_edges(G)\n",
    "    def predict(u, v):\n",
    "        key_ =  (u, v)\n",
    "        return sum(1 / G.degree(w) for w in dico_common_neighbors.get(key_, []))\n",
    "    return predict(ebunch[0], ebunch[1])\n",
    "def jaccard_coefficient(G, ebunch=None):\n",
    "    if ebunch is None:\n",
    "        ebunch = nx.non_edges(G)\n",
    "    def predict(u, v):\n",
    "        key_ =  (u, v)\n",
    "        cnbors = list(dico_common_neighbors.get(key_,[]))\n",
    "        union_size = len(set(G[u]) | set(G[v]))\n",
    "        if union_size == 0:\n",
    "            return 0\n",
    "        else:\n",
    "            return len(cnbors) / union_size    \n",
    "    return predict(ebunch[0], ebunch[1])\n",
    "import math\n",
    "def adamic_adar_index(G, ebunch=None):\n",
    "    if ebunch is None:\n",
    "        ebunch = nx.non_edges(G)\n",
    "  \n",
    "    def predict(u, v):\n",
    "        key_ =  (u, v)\n",
    "        try : \n",
    "            return sum(1 / math.log(G.degree(w)) for w in dico_common_neighbors.get(key_, []))\n",
    "        except :\n",
    "            print(\"bizzare\")\n",
    "            return -1\n",
    "  \n",
    "    return predict(ebunch[0], ebunch[1])"
   ]
  },
  {
   "cell_type": "code",
   "execution_count": 24,
   "metadata": {},
   "outputs": [],
   "source": [
    "## Shortest path\n",
    "def shortest_path(source, target, G_data) :\n",
    "    try :\n",
    "        G_data.remove_edge(source, target)\n",
    "        try : \n",
    "            ret = nx.shortest_path_length(G_data, source, target)\n",
    "            G_data.add_edge(source, target)\n",
    "            return ret\n",
    "        except :\n",
    "            G_data.add_edge(source, target)\n",
    "            return 1000\n",
    "    except :\n",
    "        try : \n",
    "            ret = nx.shortest_path_length(G_data, source, target)\n",
    "            return ret\n",
    "        except :\n",
    "            return 1000"
   ]
  },
  {
   "cell_type": "code",
   "execution_count": 25,
   "metadata": {},
   "outputs": [],
   "source": [
    "### Centrality, page rank and HITS\n",
    "out_degree_centrality =  nx.out_degree_centrality(G_data)\n",
    "in_degree_centrality = nx.in_degree_centrality(G_data)\n",
    "page_rank = nx.pagerank_scipy(G_data)\n",
    "hub_score, authority_score = nx.hits(G_data)"
   ]
  },
  {
   "cell_type": "code",
   "execution_count": 26,
   "metadata": {},
   "outputs": [],
   "source": [
    "import itertools\n",
    "def get_graph_feature(tuple_to_process, G_data=G_data) :\n",
    "    ret = []\n",
    "    source = tuple_to_process[0]\n",
    "    target = tuple_to_process[1]\n",
    "    if source not in nodes_bizz :\n",
    "        source = int(source)\n",
    "    if target not in nodes_bizz :\n",
    "        target = int(target)\n",
    "    ebunch = (source, target)    \n",
    "    ret.append(out_degree_centrality[source])\n",
    "    ret.append(in_degree_centrality[target])\n",
    "    ret.append(page_rank[target])\n",
    "    ret.append(out_degree_centrality[source] * in_degree_centrality[target])\n",
    "    ret.append(hub_score[source])\n",
    "    ret.append(authority_score[target])\n",
    "    try :\n",
    "        cm = len(dico_common_neighbors.get(ebunch, []))/(len(G_data[source]) + len(G_data[target]))\n",
    "    except :\n",
    "        cm = 0\n",
    "    ret.append(cm)\n",
    "    ret.append(resource_allocation_index(G_data, ebunch))\n",
    "    ret.append(jaccard_coefficient(G_data, ebunch))\n",
    "    ret.append(adamic_adar_index(G_data, ebunch))\n",
    "    ret.append(shortest_path(source , target, G_data))\n",
    "\n",
    "    return np.array(ret)"
   ]
  },
  {
   "cell_type": "code",
   "execution_count": 27,
   "metadata": {},
   "outputs": [],
   "source": [
    "with Pool(6) as p: \n",
    "    features_nodes = p.map(get_features, pairs_train)\n",
    "features_nodes = np.array(features_nodes)\n",
    "\n",
    "with Pool(6) as p: \n",
    "    train_tr = p.map(get_graph_feature, pairs_train )\n",
    "train_tr = np.asarray(train_tr)"
   ]
  },
  {
   "cell_type": "code",
   "execution_count": 28,
   "metadata": {},
   "outputs": [
    {
     "name": "stdout",
     "output_type": "stream",
     "text": [
      "(600512, 5)\n",
      "(600512, 11)\n"
     ]
    }
   ],
   "source": [
    "print(features_nodes.shape)\n",
    "print(train_tr.shape)"
   ]
  },
  {
   "cell_type": "code",
   "execution_count": 29,
   "metadata": {},
   "outputs": [],
   "source": [
    "with Pool(6) as p: \n",
    "    features_val = p.map(get_features, pairs_val)\n",
    "features_val = np.array(features_val)\n",
    "\n",
    "with Pool(6) as p: \n",
    "    val_tr = p.map(get_graph_feature, pairs_val)\n",
    "val_tr = np.asarray(val_tr)"
   ]
  },
  {
   "cell_type": "code",
   "execution_count": 30,
   "metadata": {},
   "outputs": [
    {
     "name": "stdout",
     "output_type": "stream",
     "text": [
      "(15000, 5)\n",
      "(15000, 11)\n"
     ]
    }
   ],
   "source": [
    "print(features_val.shape)\n",
    "print(val_tr.shape)"
   ]
  },
  {
   "cell_type": "code",
   "execution_count": 31,
   "metadata": {},
   "outputs": [],
   "source": [
    "from sklearn.model_selection import train_test_split\n",
    "from sklearn.preprocessing import StandardScaler\n",
    "scaler = StandardScaler()"
   ]
  },
  {
   "cell_type": "code",
   "execution_count": 32,
   "metadata": {},
   "outputs": [],
   "source": [
    "from sklearn import linear_model\n",
    "from sklearn.model_selection import GridSearchCV\n",
    "import sklearn\n",
    "def train_logistic(train, val, c_inf=-1, c_up=2, n=20) : \n",
    "    logistic = linear_model.LogisticRegression()\n",
    "    C = np.logspace(c_inf, c_up, n)\n",
    "    params = dict(C=C, class_weight=['balanced'], solver=['lbfgs'])\n",
    "    clf = GridSearchCV(logistic, params, cv=3, verbose=10, n_jobs = -1,  scoring='f1')\n",
    "    clf.fit(train, y_train)\n",
    "    y_pred = clf.predict(val)\n",
    "    score = sklearn.metrics.f1_score(y_val, y_pred)\n",
    "    print(score)\n",
    "    return clf, score"
   ]
  },
  {
   "cell_type": "code",
   "execution_count": 33,
   "metadata": {},
   "outputs": [],
   "source": [
    "# initialize basic SVM\n",
    "def train_svm(train, val, c_inf=-1, c_up=2, n=5) : \n",
    "    classifier = svm.LinearSVC()\n",
    "    C = np.logspace(c_inf, c_up, n)\n",
    "    params = dict(C=C, class_weight=['balanced'])\n",
    "    clf = GridSearchCV(classifier, params, cv=2, verbose=10, n_jobs = -1,  scoring='f1')\n",
    "    clf.fit(train, y_train)\n",
    "    y_pred = clf.predict(val)\n",
    "    score = sklearn.metrics.f1_score(y_val, y_pred)\n",
    "    print(score)\n",
    "    return clf, score"
   ]
  },
  {
   "cell_type": "code",
   "execution_count": 34,
   "metadata": {},
   "outputs": [],
   "source": [
    "## f-1 score\n",
    "import tensorflow.keras.backend as K\n",
    "import sklearn\n",
    "def recall_m(y_true, y_pred):\n",
    "    true_positives = K.sum(K.round(K.clip(y_true * y_pred, 0, 1)))\n",
    "    possible_positives = K.sum(K.round(K.clip(y_true, 0, 1)))\n",
    "    recall = true_positives / (possible_positives + K.epsilon())\n",
    "    return recall\n",
    "def precision_m(y_true, y_pred):\n",
    "    true_positives = K.sum(K.round(K.clip(y_true * y_pred, 0, 1)))\n",
    "    predicted_positives = K.sum(K.round(K.clip(y_pred, 0, 1)))\n",
    "    precision = true_positives / (predicted_positives + K.epsilon())\n",
    "    return precision\n",
    "def f1_m(y_true, y_pred):\n",
    "    precision = precision_m(y_true, y_pred)\n",
    "    recall = recall_m(y_true, y_pred)\n",
    "    return 2*((precision*recall)/(precision+recall+K.epsilon()))"
   ]
  },
  {
   "cell_type": "code",
   "execution_count": 35,
   "metadata": {},
   "outputs": [],
   "source": [
    "dico_score = {}"
   ]
  },
  {
   "cell_type": "markdown",
   "metadata": {},
   "source": [
    "### Avec uniquement les features graph"
   ]
  },
  {
   "cell_type": "code",
   "execution_count": 36,
   "metadata": {},
   "outputs": [
    {
     "name": "stdout",
     "output_type": "stream",
     "text": [
      "(600512, 11) (15000, 11)\n"
     ]
    }
   ],
   "source": [
    "train = scaler.fit_transform(train_tr)\n",
    "val = scaler.transform(val_tr)\n",
    "print(train.shape, val.shape)"
   ]
  },
  {
   "cell_type": "code",
   "execution_count": 37,
   "metadata": {
    "scrolled": true
   },
   "outputs": [
    {
     "name": "stdout",
     "output_type": "stream",
     "text": [
      "Fitting 3 folds for each of 10 candidates, totalling 30 fits\n"
     ]
    },
    {
     "name": "stderr",
     "output_type": "stream",
     "text": [
      "[Parallel(n_jobs=-1)]: Using backend LokyBackend with 8 concurrent workers.\n",
      "[Parallel(n_jobs=-1)]: Done   2 tasks      | elapsed:   10.9s\n",
      "[Parallel(n_jobs=-1)]: Done   9 tasks      | elapsed:   20.6s\n",
      "[Parallel(n_jobs=-1)]: Done  19 out of  30 | elapsed:   30.6s remaining:   17.7s\n",
      "[Parallel(n_jobs=-1)]: Done  23 out of  30 | elapsed:   32.3s remaining:    9.8s\n",
      "[Parallel(n_jobs=-1)]: Done  27 out of  30 | elapsed:   38.1s remaining:    4.2s\n",
      "[Parallel(n_jobs=-1)]: Done  30 out of  30 | elapsed:   38.7s finished\n"
     ]
    },
    {
     "name": "stdout",
     "output_type": "stream",
     "text": [
      "0.9215615788338486\n"
     ]
    }
   ],
   "source": [
    "## Logistic regression\n",
    "clf, score = train_logistic(train, val, c_inf=2, c_up=3, n=10)\n",
    "clf.best_params_\n",
    "dico_score['graph_structure_logistic'] = score"
   ]
  },
  {
   "cell_type": "code",
   "execution_count": 38,
   "metadata": {
    "scrolled": true
   },
   "outputs": [
    {
     "name": "stdout",
     "output_type": "stream",
     "text": [
      "Fitting 2 folds for each of 5 candidates, totalling 10 fits\n"
     ]
    },
    {
     "name": "stderr",
     "output_type": "stream",
     "text": [
      "[Parallel(n_jobs=-1)]: Using backend LokyBackend with 8 concurrent workers.\n",
      "[Parallel(n_jobs=-1)]: Done   3 out of  10 | elapsed:  1.9min remaining:  4.4min\n",
      "[Parallel(n_jobs=-1)]: Done   5 out of  10 | elapsed:  2.0min remaining:  2.0min\n",
      "[Parallel(n_jobs=-1)]: Done   7 out of  10 | elapsed:  2.2min remaining:   56.1s\n",
      "[Parallel(n_jobs=-1)]: Done  10 out of  10 | elapsed:  2.9min finished\n"
     ]
    },
    {
     "name": "stdout",
     "output_type": "stream",
     "text": [
      "0.914655764986795\n",
      "{'C': 3.1622776601683795, 'class_weight': 'balanced'}\n"
     ]
    }
   ],
   "source": [
    "## SVM\n",
    "clf, score = train_svm(train, val)\n",
    "print(clf.best_params_)\n",
    "dico_score['graph_structure_svm'] = score"
   ]
  },
  {
   "cell_type": "code",
   "execution_count": 40,
   "metadata": {},
   "outputs": [
    {
     "name": "stdout",
     "output_type": "stream",
     "text": [
      "0.9618658730708007\n"
     ]
    }
   ],
   "source": [
    "## XGBOOST\n",
    "from xgboost import XGBClassifier\n",
    "from sklearn.model_selection import RandomizedSearchCV\n",
    "params = {'subsample': 0.7,\n",
    " 'reg_lambda': 1,\n",
    " 'reg_alpha': 0.1,\n",
    " 'n_estimators': 200,\n",
    " 'min_samples_split': 3,\n",
    " 'min_samples_leaf': 3,\n",
    " 'min_child_weight': 7,\n",
    " 'max_depth': 30,\n",
    " 'learning_rate': 0.1,\n",
    " 'gamma': 0.1,\n",
    " 'criterion': 'entropy',\n",
    " 'colsample_bytree': 1,\n",
    " 'colsample_bylevel': 0.7,\n",
    "         'n_jobs':-1}\n",
    "clf = XGBClassifier()\n",
    "clf.set_params(**params)\n",
    "clf.fit(train, y_train)\n",
    "y_pred = clf.predict(val)\n",
    "score = sklearn.metrics.f1_score(y_val, y_pred)\n",
    "print(score)\n",
    "dico_score['graph_structure_xgboost'] = score"
   ]
  },
  {
   "cell_type": "code",
   "execution_count": 41,
   "metadata": {},
   "outputs": [
    {
     "data": {
      "text/html": [
       "<div>\n",
       "<style scoped>\n",
       "    .dataframe tbody tr th:only-of-type {\n",
       "        vertical-align: middle;\n",
       "    }\n",
       "\n",
       "    .dataframe tbody tr th {\n",
       "        vertical-align: top;\n",
       "    }\n",
       "\n",
       "    .dataframe thead th {\n",
       "        text-align: right;\n",
       "    }\n",
       "</style>\n",
       "<table border=\"1\" class=\"dataframe\">\n",
       "  <thead>\n",
       "    <tr style=\"text-align: right;\">\n",
       "      <th></th>\n",
       "      <th>Variable</th>\n",
       "      <th>Importance</th>\n",
       "    </tr>\n",
       "  </thead>\n",
       "  <tbody>\n",
       "    <tr>\n",
       "      <td>10</td>\n",
       "      <td>shortest_path</td>\n",
       "      <td>100.000000</td>\n",
       "    </tr>\n",
       "    <tr>\n",
       "      <td>7</td>\n",
       "      <td>resource</td>\n",
       "      <td>49.721283</td>\n",
       "    </tr>\n",
       "    <tr>\n",
       "      <td>6</td>\n",
       "      <td>common_neighs</td>\n",
       "      <td>36.903740</td>\n",
       "    </tr>\n",
       "    <tr>\n",
       "      <td>8</td>\n",
       "      <td>jaccard</td>\n",
       "      <td>29.411633</td>\n",
       "    </tr>\n",
       "    <tr>\n",
       "      <td>9</td>\n",
       "      <td>adamic</td>\n",
       "      <td>5.706720</td>\n",
       "    </tr>\n",
       "    <tr>\n",
       "      <td>2</td>\n",
       "      <td>page_rank</td>\n",
       "      <td>3.162671</td>\n",
       "    </tr>\n",
       "    <tr>\n",
       "      <td>5</td>\n",
       "      <td>authority</td>\n",
       "      <td>1.972737</td>\n",
       "    </tr>\n",
       "    <tr>\n",
       "      <td>3</td>\n",
       "      <td>pref_att</td>\n",
       "      <td>1.938154</td>\n",
       "    </tr>\n",
       "    <tr>\n",
       "      <td>4</td>\n",
       "      <td>hub_score</td>\n",
       "      <td>1.897993</td>\n",
       "    </tr>\n",
       "    <tr>\n",
       "      <td>1</td>\n",
       "      <td>in_deg</td>\n",
       "      <td>1.599373</td>\n",
       "    </tr>\n",
       "    <tr>\n",
       "      <td>0</td>\n",
       "      <td>out_deg</td>\n",
       "      <td>1.513994</td>\n",
       "    </tr>\n",
       "  </tbody>\n",
       "</table>\n",
       "</div>"
      ],
      "text/plain": [
       "         Variable  Importance\n",
       "10  shortest_path  100.000000\n",
       "7        resource   49.721283\n",
       "6   common_neighs   36.903740\n",
       "8         jaccard   29.411633\n",
       "9          adamic    5.706720\n",
       "2       page_rank    3.162671\n",
       "5       authority    1.972737\n",
       "3        pref_att    1.938154\n",
       "4       hub_score    1.897993\n",
       "1          in_deg    1.599373\n",
       "0         out_deg    1.513994"
      ]
     },
     "execution_count": 41,
     "metadata": {},
     "output_type": "execute_result"
    }
   ],
   "source": [
    "columns = ['out_deg', 'in_deg', 'page_rank','pref_att',\n",
    "           'hub_score','authority', 'common_neighs', 'resource',\n",
    "           'jaccard', 'adamic', 'shortest_path']\n",
    "feature_importance = pd.DataFrame(clf.feature_importances_)\n",
    "feature_importance = 100.0 * \\\n",
    "    (feature_importance / feature_importance.max())\n",
    "feature_importance = pd.concat([pd.DataFrame(\n",
    "    columns), feature_importance], axis=1, ignore_index=True)\n",
    "feature_importance.columns = ['Variable', 'Importance']\n",
    "feature_importance = feature_importance.sort_values(\n",
    "    by='Importance', axis=0, ascending=False)\n",
    "feature_importance"
   ]
  },
  {
   "cell_type": "markdown",
   "metadata": {},
   "source": [
    "### Avec uniquement les attributs"
   ]
  },
  {
   "cell_type": "code",
   "execution_count": 42,
   "metadata": {},
   "outputs": [
    {
     "name": "stdout",
     "output_type": "stream",
     "text": [
      "(600512, 5) (15000, 5)\n"
     ]
    }
   ],
   "source": [
    "train = scaler.fit_transform(features_nodes) #features_nodes #\n",
    "val = scaler.transform(features_val) #features_val #\n",
    "print(train.shape, val.shape)"
   ]
  },
  {
   "cell_type": "code",
   "execution_count": 43,
   "metadata": {},
   "outputs": [
    {
     "name": "stdout",
     "output_type": "stream",
     "text": [
      "Fitting 3 folds for each of 30 candidates, totalling 90 fits\n"
     ]
    },
    {
     "name": "stderr",
     "output_type": "stream",
     "text": [
      "[Parallel(n_jobs=-1)]: Using backend LokyBackend with 8 concurrent workers.\n",
      "[Parallel(n_jobs=-1)]: Done   2 tasks      | elapsed:    2.6s\n",
      "[Parallel(n_jobs=-1)]: Done   9 tasks      | elapsed:    4.1s\n",
      "[Parallel(n_jobs=-1)]: Done  16 tasks      | elapsed:    4.7s\n",
      "[Parallel(n_jobs=-1)]: Done  25 tasks      | elapsed:    7.0s\n",
      "[Parallel(n_jobs=-1)]: Done  34 tasks      | elapsed:    8.5s\n",
      "[Parallel(n_jobs=-1)]: Done  45 tasks      | elapsed:   10.3s\n",
      "[Parallel(n_jobs=-1)]: Done  56 tasks      | elapsed:   12.1s\n",
      "[Parallel(n_jobs=-1)]: Done  69 tasks      | elapsed:   14.7s\n",
      "[Parallel(n_jobs=-1)]: Done  85 out of  90 | elapsed:   17.6s remaining:    1.0s\n",
      "[Parallel(n_jobs=-1)]: Done  90 out of  90 | elapsed:   18.1s finished\n"
     ]
    },
    {
     "name": "stdout",
     "output_type": "stream",
     "text": [
      "0.8777495136914559\n",
      "{'C': 0.30391953823131973, 'class_weight': 'balanced', 'solver': 'lbfgs'}\n"
     ]
    }
   ],
   "source": [
    "## Logistic regression\n",
    "clf, score = train_logistic(train, val, c_inf=-1, c_up=1, n=30)\n",
    "print(clf.best_params_)\n",
    "dico_score['node_attribut_logistic'] = score"
   ]
  },
  {
   "cell_type": "code",
   "execution_count": 44,
   "metadata": {},
   "outputs": [
    {
     "name": "stdout",
     "output_type": "stream",
     "text": [
      "Fitting 2 folds for each of 5 candidates, totalling 10 fits\n"
     ]
    },
    {
     "name": "stderr",
     "output_type": "stream",
     "text": [
      "[Parallel(n_jobs=-1)]: Using backend LokyBackend with 8 concurrent workers.\n",
      "[Parallel(n_jobs=-1)]: Done   3 out of  10 | elapsed:   52.5s remaining:  2.0min\n",
      "[Parallel(n_jobs=-1)]: Done   5 out of  10 | elapsed:  1.6min remaining:  1.6min\n",
      "[Parallel(n_jobs=-1)]: Done   7 out of  10 | elapsed:  1.8min remaining:   45.4s\n",
      "[Parallel(n_jobs=-1)]: Done  10 out of  10 | elapsed:  1.9min finished\n"
     ]
    },
    {
     "name": "stdout",
     "output_type": "stream",
     "text": [
      "0.8716289916124421\n",
      "{'C': 17.78279410038923, 'class_weight': 'balanced'}\n"
     ]
    }
   ],
   "source": [
    "## SVM\n",
    "clf, score = train_svm(train, val)\n",
    "print(clf.best_params_)\n",
    "dico_score['node_attribut_svm'] = score"
   ]
  },
  {
   "cell_type": "code",
   "execution_count": 45,
   "metadata": {},
   "outputs": [
    {
     "name": "stdout",
     "output_type": "stream",
     "text": [
      "0.9214064859423311\n"
     ]
    }
   ],
   "source": [
    "## XGBOOST\n",
    "clf = XGBClassifier()\n",
    "clf.set_params(**params)\n",
    "clf.fit(train, y_train)\n",
    "y_pred = clf.predict(val)\n",
    "score = sklearn.metrics.f1_score(y_val, y_pred)\n",
    "print(score)\n",
    "dico_score['node_attribut_xgboost'] = score"
   ]
  },
  {
   "cell_type": "code",
   "execution_count": 46,
   "metadata": {},
   "outputs": [
    {
     "data": {
      "text/html": [
       "<div>\n",
       "<style scoped>\n",
       "    .dataframe tbody tr th:only-of-type {\n",
       "        vertical-align: middle;\n",
       "    }\n",
       "\n",
       "    .dataframe tbody tr th {\n",
       "        vertical-align: top;\n",
       "    }\n",
       "\n",
       "    .dataframe thead th {\n",
       "        text-align: right;\n",
       "    }\n",
       "</style>\n",
       "<table border=\"1\" class=\"dataframe\">\n",
       "  <thead>\n",
       "    <tr style=\"text-align: right;\">\n",
       "      <th></th>\n",
       "      <th>Variable</th>\n",
       "      <th>Importance</th>\n",
       "    </tr>\n",
       "  </thead>\n",
       "  <tbody>\n",
       "    <tr>\n",
       "      <td>2</td>\n",
       "      <td>tf_idf_cosine</td>\n",
       "      <td>100.000000</td>\n",
       "    </tr>\n",
       "    <tr>\n",
       "      <td>1</td>\n",
       "      <td>common_authors</td>\n",
       "      <td>46.640224</td>\n",
       "    </tr>\n",
       "    <tr>\n",
       "      <td>3</td>\n",
       "      <td>diff_year</td>\n",
       "      <td>34.547367</td>\n",
       "    </tr>\n",
       "    <tr>\n",
       "      <td>0</td>\n",
       "      <td>common_words</td>\n",
       "      <td>14.835013</td>\n",
       "    </tr>\n",
       "    <tr>\n",
       "      <td>4</td>\n",
       "      <td>doc2vec_cosine</td>\n",
       "      <td>9.219380</td>\n",
       "    </tr>\n",
       "  </tbody>\n",
       "</table>\n",
       "</div>"
      ],
      "text/plain": [
       "         Variable  Importance\n",
       "2   tf_idf_cosine  100.000000\n",
       "1  common_authors   46.640224\n",
       "3       diff_year   34.547367\n",
       "0    common_words   14.835013\n",
       "4  doc2vec_cosine    9.219380"
      ]
     },
     "execution_count": 46,
     "metadata": {},
     "output_type": "execute_result"
    }
   ],
   "source": [
    "columns_attr = ['common_words', 'common_authors', 'tf_idf_cosine', 'diff_year', 'doc2vec_cosine']\n",
    "feature_importance = pd.DataFrame(clf.feature_importances_)\n",
    "feature_importance = 100.0 * \\\n",
    "    (feature_importance / feature_importance.max())\n",
    "feature_importance = pd.concat([pd.DataFrame(\n",
    "    columns_attr), feature_importance], axis=1, ignore_index=True)\n",
    "feature_importance.columns = ['Variable', 'Importance']\n",
    "feature_importance = feature_importance.sort_values(\n",
    "    by='Importance', axis=0, ascending=False)\n",
    "feature_importance"
   ]
  },
  {
   "cell_type": "markdown",
   "metadata": {},
   "source": [
    "### En concatenant les deux"
   ]
  },
  {
   "cell_type": "code",
   "execution_count": 47,
   "metadata": {},
   "outputs": [
    {
     "name": "stdout",
     "output_type": "stream",
     "text": [
      "(600512, 16) (15000, 16)\n"
     ]
    }
   ],
   "source": [
    "train = np.hstack((train_tr, features_nodes))\n",
    "val = np.hstack((val_tr, features_val))\n",
    "train = scaler.fit_transform(train)\n",
    "val = scaler.transform(val)\n",
    "print(train.shape, val.shape)"
   ]
  },
  {
   "cell_type": "markdown",
   "metadata": {},
   "source": [
    "#### Regression logistic"
   ]
  },
  {
   "cell_type": "code",
   "execution_count": 48,
   "metadata": {},
   "outputs": [
    {
     "name": "stdout",
     "output_type": "stream",
     "text": [
      "Fitting 3 folds for each of 10 candidates, totalling 30 fits\n"
     ]
    },
    {
     "name": "stderr",
     "output_type": "stream",
     "text": [
      "[Parallel(n_jobs=-1)]: Using backend LokyBackend with 8 concurrent workers.\n",
      "[Parallel(n_jobs=-1)]: Done   2 tasks      | elapsed:   12.2s\n",
      "[Parallel(n_jobs=-1)]: Done   9 tasks      | elapsed:   24.1s\n",
      "[Parallel(n_jobs=-1)]: Done  19 out of  30 | elapsed:   35.6s remaining:   20.6s\n",
      "[Parallel(n_jobs=-1)]: Done  23 out of  30 | elapsed:   37.1s remaining:   11.3s\n",
      "[Parallel(n_jobs=-1)]: Done  27 out of  30 | elapsed:   44.4s remaining:    4.9s\n",
      "[Parallel(n_jobs=-1)]: Done  30 out of  30 | elapsed:   44.9s finished\n"
     ]
    },
    {
     "name": "stdout",
     "output_type": "stream",
     "text": [
      "0.9573196162936187\n",
      "{'C': 10.0, 'class_weight': 'balanced', 'solver': 'lbfgs'}\n"
     ]
    }
   ],
   "source": [
    "clf, score = train_logistic(train, val, c_inf=1, c_up=3, n=10)\n",
    "print(clf.best_params_)\n",
    "dico_score['graph_attribut_logistic'] = score"
   ]
  },
  {
   "cell_type": "markdown",
   "metadata": {},
   "source": [
    "#### SVM"
   ]
  },
  {
   "cell_type": "code",
   "execution_count": 49,
   "metadata": {},
   "outputs": [
    {
     "name": "stdout",
     "output_type": "stream",
     "text": [
      "Fitting 2 folds for each of 5 candidates, totalling 10 fits\n"
     ]
    },
    {
     "name": "stderr",
     "output_type": "stream",
     "text": [
      "[Parallel(n_jobs=-1)]: Using backend LokyBackend with 8 concurrent workers.\n",
      "[Parallel(n_jobs=-1)]: Done   3 out of  10 | elapsed:  1.5min remaining:  3.4min\n",
      "[Parallel(n_jobs=-1)]: Done   5 out of  10 | elapsed:  1.8min remaining:  1.8min\n",
      "[Parallel(n_jobs=-1)]: Done   7 out of  10 | elapsed:  2.1min remaining:   52.9s\n",
      "[Parallel(n_jobs=-1)]: Done  10 out of  10 | elapsed:  2.8min finished\n"
     ]
    },
    {
     "name": "stdout",
     "output_type": "stream",
     "text": [
      "0.9556135770234987\n",
      "{'C': 17.78279410038923, 'class_weight': 'balanced'}\n"
     ]
    }
   ],
   "source": [
    "clf, score = train_svm(train, val)\n",
    "print(clf.best_params_)\n",
    "dico_score['node_attribut_svm'] = score"
   ]
  },
  {
   "cell_type": "markdown",
   "metadata": {},
   "source": [
    "#### xgboost"
   ]
  },
  {
   "cell_type": "code",
   "execution_count": 50,
   "metadata": {},
   "outputs": [
    {
     "name": "stdout",
     "output_type": "stream",
     "text": [
      "0.9722507708119219\n"
     ]
    },
    {
     "data": {
      "text/html": [
       "<div>\n",
       "<style scoped>\n",
       "    .dataframe tbody tr th:only-of-type {\n",
       "        vertical-align: middle;\n",
       "    }\n",
       "\n",
       "    .dataframe tbody tr th {\n",
       "        vertical-align: top;\n",
       "    }\n",
       "\n",
       "    .dataframe thead th {\n",
       "        text-align: right;\n",
       "    }\n",
       "</style>\n",
       "<table border=\"1\" class=\"dataframe\">\n",
       "  <thead>\n",
       "    <tr style=\"text-align: right;\">\n",
       "      <th></th>\n",
       "      <th>Variable</th>\n",
       "      <th>Importance</th>\n",
       "    </tr>\n",
       "  </thead>\n",
       "  <tbody>\n",
       "    <tr>\n",
       "      <td>10</td>\n",
       "      <td>shortest_path</td>\n",
       "      <td>100.000000</td>\n",
       "    </tr>\n",
       "    <tr>\n",
       "      <td>6</td>\n",
       "      <td>common_neighs</td>\n",
       "      <td>42.303875</td>\n",
       "    </tr>\n",
       "    <tr>\n",
       "      <td>7</td>\n",
       "      <td>resource</td>\n",
       "      <td>39.663643</td>\n",
       "    </tr>\n",
       "    <tr>\n",
       "      <td>9</td>\n",
       "      <td>adamic</td>\n",
       "      <td>12.495809</td>\n",
       "    </tr>\n",
       "    <tr>\n",
       "      <td>8</td>\n",
       "      <td>jaccard</td>\n",
       "      <td>8.823529</td>\n",
       "    </tr>\n",
       "    <tr>\n",
       "      <td>13</td>\n",
       "      <td>tf_idf_cosine</td>\n",
       "      <td>6.119644</td>\n",
       "    </tr>\n",
       "    <tr>\n",
       "      <td>12</td>\n",
       "      <td>common_authors</td>\n",
       "      <td>3.851392</td>\n",
       "    </tr>\n",
       "    <tr>\n",
       "      <td>14</td>\n",
       "      <td>diff_year</td>\n",
       "      <td>3.079254</td>\n",
       "    </tr>\n",
       "    <tr>\n",
       "      <td>2</td>\n",
       "      <td>page_rank</td>\n",
       "      <td>1.465281</td>\n",
       "    </tr>\n",
       "    <tr>\n",
       "      <td>3</td>\n",
       "      <td>pref_att</td>\n",
       "      <td>1.279755</td>\n",
       "    </tr>\n",
       "    <tr>\n",
       "      <td>5</td>\n",
       "      <td>authority</td>\n",
       "      <td>1.108819</td>\n",
       "    </tr>\n",
       "    <tr>\n",
       "      <td>4</td>\n",
       "      <td>hub_score</td>\n",
       "      <td>1.108503</td>\n",
       "    </tr>\n",
       "    <tr>\n",
       "      <td>1</td>\n",
       "      <td>in_deg</td>\n",
       "      <td>1.038362</td>\n",
       "    </tr>\n",
       "    <tr>\n",
       "      <td>11</td>\n",
       "      <td>common_words</td>\n",
       "      <td>1.020769</td>\n",
       "    </tr>\n",
       "    <tr>\n",
       "      <td>0</td>\n",
       "      <td>out_deg</td>\n",
       "      <td>0.863967</td>\n",
       "    </tr>\n",
       "    <tr>\n",
       "      <td>15</td>\n",
       "      <td>doc2vec_cosine</td>\n",
       "      <td>0.685441</td>\n",
       "    </tr>\n",
       "  </tbody>\n",
       "</table>\n",
       "</div>"
      ],
      "text/plain": [
       "          Variable  Importance\n",
       "10   shortest_path  100.000000\n",
       "6    common_neighs   42.303875\n",
       "7         resource   39.663643\n",
       "9           adamic   12.495809\n",
       "8          jaccard    8.823529\n",
       "13   tf_idf_cosine    6.119644\n",
       "12  common_authors    3.851392\n",
       "14       diff_year    3.079254\n",
       "2        page_rank    1.465281\n",
       "3         pref_att    1.279755\n",
       "5        authority    1.108819\n",
       "4        hub_score    1.108503\n",
       "1           in_deg    1.038362\n",
       "11    common_words    1.020769\n",
       "0          out_deg    0.863967\n",
       "15  doc2vec_cosine    0.685441"
      ]
     },
     "execution_count": 50,
     "metadata": {},
     "output_type": "execute_result"
    }
   ],
   "source": [
    "clf = XGBClassifier()\n",
    "clf.set_params(**params)\n",
    "clf.fit(train, y_train)\n",
    "y_pred = clf.predict(val)\n",
    "score = sklearn.metrics.f1_score(y_val, y_pred)\n",
    "print(score)\n",
    "dico_score['graph_attribut_xgboost'] = score\n",
    "feature_importance = pd.DataFrame(clf.feature_importances_)\n",
    "feature_importance = 100.0 * \\\n",
    "    (feature_importance / feature_importance.max())\n",
    "feature_importance = pd.concat([pd.DataFrame(\n",
    "    columns + columns_attr), feature_importance], axis=1, ignore_index=True)\n",
    "feature_importance.columns = ['Variable', 'Importance']\n",
    "feature_importance = feature_importance.sort_values(\n",
    "    by='Importance', axis=0, ascending=False)\n",
    "feature_importance"
   ]
  },
  {
   "cell_type": "markdown",
   "metadata": {},
   "source": [
    "#### Neural network"
   ]
  },
  {
   "cell_type": "code",
   "execution_count": 51,
   "metadata": {
    "scrolled": true
   },
   "outputs": [
    {
     "name": "stdout",
     "output_type": "stream",
     "text": [
      "WARNING:tensorflow:From /home/jores/anaconda3/lib/python3.7/site-packages/tensorflow/python/ops/init_ops.py:1251: calling VarianceScaling.__init__ (from tensorflow.python.ops.init_ops) with dtype is deprecated and will be removed in a future version.\n",
      "Instructions for updating:\n",
      "Call initializer instance with the dtype argument instead of passing it to the constructor\n",
      "WARNING:tensorflow:From /home/jores/anaconda3/lib/python3.7/site-packages/tensorflow/python/ops/nn_impl.py:180: add_dispatch_support.<locals>.wrapper (from tensorflow.python.ops.array_ops) is deprecated and will be removed in a future version.\n",
      "Instructions for updating:\n",
      "Use tf.where in 2.0, which has the same broadcast rule as np.where\n",
      "Train on 600512 samples, validate on 15000 samples\n",
      "Epoch 1/30\n",
      "600512/600512 [==============================] - 2s 3us/sample - loss: 0.2803 - f1_m: 0.9058 - val_loss: 0.1632 - val_f1_m: 0.9640\n",
      "Epoch 2/30\n",
      "600512/600512 [==============================] - 1s 2us/sample - loss: 0.1656 - f1_m: 0.9435 - val_loss: 0.1433 - val_f1_m: 0.9705\n",
      "Epoch 3/30\n",
      "600512/600512 [==============================] - 1s 2us/sample - loss: 0.1508 - f1_m: 0.9483 - val_loss: 0.1332 - val_f1_m: 0.9730\n",
      "Epoch 4/30\n",
      "600512/600512 [==============================] - 1s 2us/sample - loss: 0.1451 - f1_m: 0.9501 - val_loss: 0.1241 - val_f1_m: 0.9755\n",
      "Epoch 5/30\n",
      "600512/600512 [==============================] - 1s 2us/sample - loss: 0.1423 - f1_m: 0.9510 - val_loss: 0.1283 - val_f1_m: 0.9743\n",
      "Epoch 6/30\n",
      "600512/600512 [==============================] - 1s 2us/sample - loss: 0.1398 - f1_m: 0.9518 - val_loss: 0.1300 - val_f1_m: 0.9741\n",
      "Epoch 7/30\n",
      "600512/600512 [==============================] - 1s 2us/sample - loss: 0.1377 - f1_m: 0.9524 - val_loss: 0.1281 - val_f1_m: 0.9735\n",
      "Epoch 8/30\n",
      "600512/600512 [==============================] - 1s 2us/sample - loss: 0.1361 - f1_m: 0.9530 - val_loss: 0.1312 - val_f1_m: 0.9728\n",
      "Epoch 9/30\n",
      "600512/600512 [==============================] - 1s 2us/sample - loss: 0.1352 - f1_m: 0.9535 - val_loss: 0.1320 - val_f1_m: 0.9729\n",
      "Epoch 10/30\n",
      "600512/600512 [==============================] - 1s 2us/sample - loss: 0.1338 - f1_m: 0.9538 - val_loss: 0.1216 - val_f1_m: 0.9745\n",
      "Epoch 11/30\n",
      "600512/600512 [==============================] - 1s 2us/sample - loss: 0.1330 - f1_m: 0.9541 - val_loss: 0.1256 - val_f1_m: 0.9736\n",
      "Epoch 12/30\n",
      "600512/600512 [==============================] - 1s 2us/sample - loss: 0.1320 - f1_m: 0.9542 - val_loss: 0.1299 - val_f1_m: 0.9727\n",
      "Epoch 13/30\n",
      "600512/600512 [==============================] - 1s 2us/sample - loss: 0.1315 - f1_m: 0.9546 - val_loss: 0.1161 - val_f1_m: 0.9762\n",
      "Epoch 14/30\n",
      "600512/600512 [==============================] - 1s 2us/sample - loss: 0.1312 - f1_m: 0.9549 - val_loss: 0.1170 - val_f1_m: 0.9757\n",
      "Epoch 15/30\n",
      "600512/600512 [==============================] - 1s 2us/sample - loss: 0.1304 - f1_m: 0.9550 - val_loss: 0.1250 - val_f1_m: 0.9737\n",
      "Epoch 16/30\n",
      "600512/600512 [==============================] - 1s 2us/sample - loss: 0.1297 - f1_m: 0.9551 - val_loss: 0.1248 - val_f1_m: 0.9748\n",
      "Epoch 17/30\n",
      "600512/600512 [==============================] - 1s 2us/sample - loss: 0.1290 - f1_m: 0.9555 - val_loss: 0.1084 - val_f1_m: 0.9774\n",
      "Epoch 18/30\n",
      "600512/600512 [==============================] - 1s 2us/sample - loss: 0.1285 - f1_m: 0.9554 - val_loss: 0.1368 - val_f1_m: 0.9723\n",
      "Epoch 19/30\n",
      "600512/600512 [==============================] - 1s 2us/sample - loss: 0.1278 - f1_m: 0.9558 - val_loss: 0.1180 - val_f1_m: 0.9753\n",
      "Epoch 20/30\n",
      "600512/600512 [==============================] - 1s 2us/sample - loss: 0.1276 - f1_m: 0.9559 - val_loss: 0.1099 - val_f1_m: 0.9770\n",
      "Epoch 21/30\n",
      "600512/600512 [==============================] - 1s 2us/sample - loss: 0.1273 - f1_m: 0.9559 - val_loss: 0.1048 - val_f1_m: 0.9777\n",
      "Epoch 22/30\n",
      "600512/600512 [==============================] - 1s 2us/sample - loss: 0.1268 - f1_m: 0.9562 - val_loss: 0.1219 - val_f1_m: 0.9750\n",
      "Epoch 23/30\n",
      "600512/600512 [==============================] - 1s 2us/sample - loss: 0.1261 - f1_m: 0.9563 - val_loss: 0.1065 - val_f1_m: 0.9773\n",
      "Epoch 24/30\n",
      "600512/600512 [==============================] - 1s 2us/sample - loss: 0.1257 - f1_m: 0.9565 - val_loss: 0.1127 - val_f1_m: 0.9769\n",
      "Epoch 25/30\n",
      "600512/600512 [==============================] - 1s 2us/sample - loss: 0.1255 - f1_m: 0.9566 - val_loss: 0.1274 - val_f1_m: 0.9739\n",
      "Epoch 26/30\n",
      "600512/600512 [==============================] - 1s 2us/sample - loss: 0.1249 - f1_m: 0.9567 - val_loss: 0.1202 - val_f1_m: 0.9748\n",
      "Epoch 27/30\n",
      "600512/600512 [==============================] - 1s 2us/sample - loss: 0.1245 - f1_m: 0.9569 - val_loss: 0.1311 - val_f1_m: 0.9736\n",
      "Epoch 28/30\n",
      "600512/600512 [==============================] - 1s 2us/sample - loss: 0.1246 - f1_m: 0.9569 - val_loss: 0.1346 - val_f1_m: 0.9739\n",
      "Epoch 29/30\n",
      "600512/600512 [==============================] - 1s 2us/sample - loss: 0.1240 - f1_m: 0.9572 - val_loss: 0.1311 - val_f1_m: 0.9729\n",
      "Epoch 30/30\n",
      "600512/600512 [==============================] - 1s 2us/sample - loss: 0.1235 - f1_m: 0.9573 - val_loss: 0.1254 - val_f1_m: 0.9744\n",
      "0.9742186965738905\n"
     ]
    }
   ],
   "source": [
    "import tensorflow as tf\n",
    "from tensorflow.keras.models import Sequential, Model\n",
    "from tensorflow.keras.layers import Dense, Dropout, LSTM, Bidirectional, Input, BatchNormalization\n",
    "from tensorflow.core.protobuf import rewriter_config_pb2\n",
    "import tensorflow.keras.backend as K\n",
    "tf.keras.backend.clear_session()  # For easy reset of notebook state.\n",
    "model = Sequential()\n",
    "model.add(Dense(128, activation='relu'))\n",
    "model.add(Dropout(0.1))\n",
    "model.add(Dense(32, activation='relu'))\n",
    "model.add(Dropout(0.1))\n",
    "model.add(Dense(8, activation='relu'))\n",
    "model.add(Dropout(0.1))\n",
    "model.add(Dense(1, activation='sigmoid'))\n",
    "model.compile(optimizer='adam', loss='binary_crossentropy',\n",
    "              metrics=[f1_m])\n",
    "bs = 4096\n",
    "n_epochs = 30\n",
    "history = model.fit(train, np.array(y_train),\n",
    "                    batch_size=bs, epochs=n_epochs,\n",
    "                    validation_data=(val, np.array(y_val)))\n",
    "y_pred = model.predict(val)\n",
    "y_pred = np.where(y_pred > 0.5, 1, 0)\n",
    "score = sklearn.metrics.f1_score(y_val, y_pred)\n",
    "print(score)\n",
    "dico_score['graph_attribut_neural_network'] = score"
   ]
  },
  {
   "cell_type": "markdown",
   "metadata": {},
   "source": [
    "## Graph embedding"
   ]
  },
  {
   "cell_type": "markdown",
   "metadata": {},
   "source": [
    "### Node embeddings + NN"
   ]
  },
  {
   "cell_type": "code",
   "execution_count": 52,
   "metadata": {},
   "outputs": [],
   "source": [
    "# entrainement du Node2Vec\n",
    "G_data = nx.from_pandas_edgelist(fb_df_partial, \"node_1\", \"node_2\", create_using=nx.Graph())\n",
    "G_data.add_nodes_from(nodes_bizz)\n",
    "\n",
    "from node2vec import Node2Vec\n",
    "node2vec = Node2Vec(G_data, dimensions=128, walk_length=30, \n",
    "                    num_walks=30, workers=1, temp_folder='')\n",
    "# train node2vec model\n",
    "n2w_model = node2vec.fit(window=7, min_count=1)\n",
    "n2w_model.wv.save_word2vec_format('node_emb_partiel')"
   ]
  },
  {
   "cell_type": "code",
   "execution_count": 53,
   "metadata": {},
   "outputs": [],
   "source": [
    "## chargement du modèle\n",
    "from gensim.models import KeyedVectors\n",
    "n2w_model = KeyedVectors.load_word2vec_format('node_emb_partiel', binary=False)"
   ]
  },
  {
   "cell_type": "code",
   "execution_count": 54,
   "metadata": {},
   "outputs": [],
   "source": [
    "def get_node_emb(data) :\n",
    "    node_emb = []\n",
    "    for i, j in zip(data['node_1'], data['node_2']) :\n",
    "        if i in G_data.nodes():\n",
    "            emb_i = n2w_model.wv[str(i)]\n",
    "        else :\n",
    "            emb_i = np.zeros(128)\n",
    "        if j in G_data.nodes():\n",
    "            emb_j = n2w_model.wv[str(j)]\n",
    "        else :\n",
    "            emb_j = np.zeros(128)\n",
    "        node_emb.append(np.hstack((emb_i, emb_j)))\n",
    "    node_emb = np.asarray(node_emb)\n",
    "    return node_emb )\n",
    "node_emb = get_node_emb(data_.drop(index = omissible_links_index))"
   ]
  },
  {
   "cell_type": "code",
   "execution_count": 55,
   "metadata": {},
   "outputs": [
    {
     "data": {
      "text/plain": [
       "(600512, 256)"
      ]
     },
     "execution_count": 55,
     "metadata": {},
     "output_type": "execute_result"
    }
   ],
   "source": [
    "node_emb.shape"
   ]
  },
  {
   "cell_type": "code",
   "execution_count": 56,
   "metadata": {},
   "outputs": [],
   "source": [
    "# ## Validation sur les noeuds omis !!\n",
    "omitted_links = data_[data_.link == 1].iloc[omissible_links_index]\n",
    "omitted_emb = get_node_emb(omitted_links)"
   ]
  },
  {
   "cell_type": "code",
   "execution_count": 57,
   "metadata": {},
   "outputs": [],
   "source": [
    "import tensorflow as tf\n",
    "from tensorflow.keras.models import Sequential, Model\n",
    "from tensorflow.keras.layers import Dense, Dropout, Input, Concatenate\n",
    "from tensorflow.core.protobuf import rewriter_config_pb2\n",
    "import tensorflow.keras.backend as K"
   ]
  },
  {
   "cell_type": "markdown",
   "metadata": {},
   "source": [
    "### Training only on node embedding"
   ]
  },
  {
   "cell_type": "code",
   "execution_count": 94,
   "metadata": {
    "scrolled": true
   },
   "outputs": [
    {
     "name": "stdout",
     "output_type": "stream",
     "text": [
      "Train on 600512 samples, validate on 15000 samples\n",
      "Epoch 1/50\n",
      "600512/600512 [==============================] - 14s 23us/sample - loss: 0.3644 - f1_m: 0.8293 - val_loss: 0.0640 - val_f1_m: 0.9897\n",
      "Epoch 2/50\n",
      "600512/600512 [==============================] - 13s 22us/sample - loss: 0.0845 - f1_m: 0.9766 - val_loss: 0.0308 - val_f1_m: 0.9953\n",
      "Epoch 3/50\n",
      "600512/600512 [==============================] - 14s 23us/sample - loss: 0.0501 - f1_m: 0.9868 - val_loss: 0.0205 - val_f1_m: 0.9973\n",
      "Epoch 4/50\n",
      "600512/600512 [==============================] - 12s 21us/sample - loss: 0.0388 - f1_m: 0.9900 - val_loss: 0.0194 - val_f1_m: 0.9969\n",
      "Epoch 5/50\n",
      "600512/600512 [==============================] - 14s 24us/sample - loss: 0.0331 - f1_m: 0.9916 - val_loss: 0.0137 - val_f1_m: 0.9982\n",
      "Epoch 6/50\n",
      "600512/600512 [==============================] - 15s 25us/sample - loss: 0.0284 - f1_m: 0.9929 - val_loss: 0.0127 - val_f1_m: 0.9981\n",
      "Epoch 7/50\n",
      "600512/600512 [==============================] - 13s 22us/sample - loss: 0.0243 - f1_m: 0.9940 - val_loss: 0.0063 - val_f1_m: 0.9992\n",
      "Epoch 8/50\n",
      "600512/600512 [==============================] - 13s 21us/sample - loss: 0.0242 - f1_m: 0.9938 - val_loss: 0.0069 - val_f1_m: 0.9990\n",
      "Epoch 9/50\n",
      "600512/600512 [==============================] - 13s 22us/sample - loss: 0.0218 - f1_m: 0.9946 - val_loss: 0.0095 - val_f1_m: 0.9986\n",
      "Epoch 10/50\n",
      "600512/600512 [==============================] - 14s 23us/sample - loss: 0.0215 - f1_m: 0.9946 - val_loss: 0.0096 - val_f1_m: 0.9984\n",
      "Epoch 11/50\n",
      "600512/600512 [==============================] - 13s 22us/sample - loss: 0.0202 - f1_m: 0.9950 - val_loss: 0.0092 - val_f1_m: 0.9984\n",
      "Epoch 12/50\n",
      "600512/600512 [==============================] - 13s 22us/sample - loss: 0.0182 - f1_m: 0.9955 - val_loss: 0.0072 - val_f1_m: 0.9989\n",
      "Epoch 13/50\n",
      "600512/600512 [==============================] - 12s 21us/sample - loss: 0.0165 - f1_m: 0.9959 - val_loss: 0.0066 - val_f1_m: 0.9989\n",
      "Epoch 14/50\n",
      "600512/600512 [==============================] - 13s 21us/sample - loss: 0.0177 - f1_m: 0.9956 - val_loss: 0.0063 - val_f1_m: 0.9991\n",
      "Epoch 15/50\n",
      "600512/600512 [==============================] - 13s 21us/sample - loss: 0.0143 - f1_m: 0.9966 - val_loss: 0.0060 - val_f1_m: 0.9990\n",
      "Epoch 16/50\n",
      "600512/600512 [==============================] - 13s 21us/sample - loss: 0.0136 - f1_m: 0.9968 - val_loss: 0.0057 - val_f1_m: 0.9993\n",
      "Epoch 17/50\n",
      "600512/600512 [==============================] - 13s 21us/sample - loss: 0.0127 - f1_m: 0.9970 - val_loss: 0.0070 - val_f1_m: 0.9992\n",
      "Epoch 18/50\n",
      "600512/600512 [==============================] - 13s 22us/sample - loss: 0.0117 - f1_m: 0.9972 - val_loss: 0.0061 - val_f1_m: 0.9990\n",
      "Epoch 19/50\n",
      "600512/600512 [==============================] - 14s 23us/sample - loss: 0.0132 - f1_m: 0.9968 - val_loss: 0.0084 - val_f1_m: 0.9987\n",
      "Epoch 20/50\n",
      "600512/600512 [==============================] - 12s 21us/sample - loss: 0.0130 - f1_m: 0.9969 - val_loss: 0.0052 - val_f1_m: 0.9990\n",
      "Epoch 21/50\n",
      "600512/600512 [==============================] - 13s 22us/sample - loss: 0.0098 - f1_m: 0.9975 - val_loss: 0.0088 - val_f1_m: 0.9987\n",
      "Epoch 22/50\n",
      "600512/600512 [==============================] - 14s 24us/sample - loss: 0.0092 - f1_m: 0.9975 - val_loss: 0.0068 - val_f1_m: 0.9991\n",
      "Epoch 23/50\n",
      "600512/600512 [==============================] - 14s 23us/sample - loss: 0.0084 - f1_m: 0.9974 - val_loss: 0.0070 - val_f1_m: 0.9988\n",
      "Epoch 24/50\n",
      "600512/600512 [==============================] - 14s 23us/sample - loss: 0.0102 - f1_m: 0.9971 - val_loss: 0.0053 - val_f1_m: 0.9991\n",
      "Epoch 25/50\n",
      "600512/600512 [==============================] - 13s 21us/sample - loss: 0.0072 - f1_m: 0.9978 - val_loss: 0.0078 - val_f1_m: 0.9986\n",
      "Epoch 26/50\n",
      "600512/600512 [==============================] - 14s 23us/sample - loss: 0.0090 - f1_m: 0.9972 - val_loss: 0.0083 - val_f1_m: 0.9990\n",
      "Epoch 27/50\n",
      "600512/600512 [==============================] - 14s 23us/sample - loss: 0.0089 - f1_m: 0.9974 - val_loss: 0.0077 - val_f1_m: 0.9991\n",
      "Epoch 28/50\n",
      "600512/600512 [==============================] - 13s 22us/sample - loss: 0.0077 - f1_m: 0.9978 - val_loss: 0.0061 - val_f1_m: 0.9990\n",
      "Epoch 29/50\n",
      "600512/600512 [==============================] - 13s 22us/sample - loss: 0.0062 - f1_m: 0.9981 - val_loss: 0.0042 - val_f1_m: 0.9992\n",
      "Epoch 30/50\n",
      "600512/600512 [==============================] - 14s 23us/sample - loss: 0.0064 - f1_m: 0.9981 - val_loss: 0.0075 - val_f1_m: 0.9988\n",
      "Epoch 31/50\n",
      "600512/600512 [==============================] - 13s 22us/sample - loss: 0.0057 - f1_m: 0.9982 - val_loss: 0.0315 - val_f1_m: 0.9962\n",
      "Epoch 32/50\n",
      "600512/600512 [==============================] - 13s 22us/sample - loss: 0.0088 - f1_m: 0.9975 - val_loss: 0.0061 - val_f1_m: 0.9989\n",
      "Epoch 33/50\n",
      "600512/600512 [==============================] - 13s 21us/sample - loss: 0.0059 - f1_m: 0.9983 - val_loss: 0.0053 - val_f1_m: 0.9994\n",
      "Epoch 34/50\n",
      "600512/600512 [==============================] - 13s 21us/sample - loss: 0.0065 - f1_m: 0.9981 - val_loss: 0.0052 - val_f1_m: 0.9993\n",
      "Epoch 35/50\n",
      "600512/600512 [==============================] - 14s 23us/sample - loss: 0.0052 - f1_m: 0.9985 - val_loss: 0.0065 - val_f1_m: 0.9989\n",
      "Epoch 36/50\n",
      "600512/600512 [==============================] - 13s 22us/sample - loss: 0.0053 - f1_m: 0.9984 - val_loss: 0.0070 - val_f1_m: 0.9990\n",
      "Epoch 37/50\n",
      "600512/600512 [==============================] - 13s 22us/sample - loss: 0.0051 - f1_m: 0.9984 - val_loss: 0.0050 - val_f1_m: 0.9993\n",
      "Epoch 38/50\n",
      "600512/600512 [==============================] - 13s 21us/sample - loss: 0.0053 - f1_m: 0.9984 - val_loss: 0.0040 - val_f1_m: 0.9993\n",
      "Epoch 39/50\n",
      "600512/600512 [==============================] - 12s 21us/sample - loss: 0.0047 - f1_m: 0.9986 - val_loss: 0.0045 - val_f1_m: 0.9993\n",
      "Epoch 40/50\n",
      "600512/600512 [==============================] - 12s 21us/sample - loss: 0.0062 - f1_m: 0.9982 - val_loss: 0.0065 - val_f1_m: 0.9991\n",
      "Epoch 41/50\n",
      "600512/600512 [==============================] - 12s 21us/sample - loss: 0.0045 - f1_m: 0.9986 - val_loss: 0.0046 - val_f1_m: 0.9993\n",
      "Epoch 42/50\n",
      "600512/600512 [==============================] - 12s 21us/sample - loss: 0.0050 - f1_m: 0.9984 - val_loss: 0.0032 - val_f1_m: 0.9994\n",
      "Epoch 43/50\n",
      "600512/600512 [==============================] - 13s 21us/sample - loss: 0.0046 - f1_m: 0.9986 - val_loss: 0.0062 - val_f1_m: 0.9990\n",
      "Epoch 44/50\n",
      "600512/600512 [==============================] - 13s 22us/sample - loss: 0.0048 - f1_m: 0.9986 - val_loss: 0.0054 - val_f1_m: 0.9992\n",
      "Epoch 45/50\n",
      "600512/600512 [==============================] - 13s 22us/sample - loss: 0.0048 - f1_m: 0.9986 - val_loss: 0.0073 - val_f1_m: 0.9990\n",
      "Epoch 46/50\n",
      "600512/600512 [==============================] - 13s 22us/sample - loss: 0.0051 - f1_m: 0.9984 - val_loss: 0.0050 - val_f1_m: 0.9992\n",
      "Epoch 47/50\n",
      "600512/600512 [==============================] - 14s 24us/sample - loss: 0.0073 - f1_m: 0.9980 - val_loss: 0.0052 - val_f1_m: 0.9991\n",
      "Epoch 48/50\n",
      "600512/600512 [==============================] - 13s 21us/sample - loss: 0.0043 - f1_m: 0.9987 - val_loss: 0.0048 - val_f1_m: 0.9992\n",
      "Epoch 49/50\n",
      "600512/600512 [==============================] - 13s 22us/sample - loss: 0.0039 - f1_m: 0.9989 - val_loss: 0.0051 - val_f1_m: 0.9993\n",
      "Epoch 50/50\n",
      "600512/600512 [==============================] - 13s 22us/sample - loss: 0.0041 - f1_m: 0.9988 - val_loss: 0.0051 - val_f1_m: 0.9992\n",
      "0.9991659716430359\n"
     ]
    }
   ],
   "source": [
    "tf.keras.backend.clear_session()  # For easy reset of notebook state.\n",
    "model = Sequential()\n",
    "model.add(Dense(1024, activation='relu'))\n",
    "model.add(Dropout(0.1))\n",
    "model.add(Dense(128, activation='relu'))\n",
    "model.add(Dropout(0.1))\n",
    "model.add(Dense(8, activation='relu'))\n",
    "model.add(Dropout(0.1))\n",
    "model.add(Dense(1, activation='sigmoid'))\n",
    "model.compile(optimizer='adam', loss='binary_crossentropy',\n",
    "              metrics=[f1_m])\n",
    "bs = 10000\n",
    "n_epochs = 50\n",
    "history = model.fit(node_emb, y_train,\n",
    "                    batch_size=bs, epochs=n_epochs,\n",
    "                    validation_data=(omitted_emb, y_val))\n",
    "y_pred = model.predict(omitted_emb)\n",
    "y_pred = np.where(y_pred >0.5, 1, 0)\n",
    "score = sklearn.metrics.f1_score(y_val, y_pred)\n",
    "print(score)\n",
    "dico_score['node2vec_alone_neural_network'] = score"
   ]
  },
  {
   "cell_type": "markdown",
   "metadata": {},
   "source": [
    "### Training on node embedding + graph structure + nodes attributs"
   ]
  },
  {
   "cell_type": "code",
   "execution_count": 59,
   "metadata": {},
   "outputs": [],
   "source": [
    "x_train = np.hstack([node_emb, train])\n",
    "x_val = np.hstack([omitted_emb, val])"
   ]
  },
  {
   "cell_type": "markdown",
   "metadata": {},
   "source": [
    "#### Classic neural network with the concatenated features"
   ]
  },
  {
   "cell_type": "code",
   "execution_count": 60,
   "metadata": {
    "scrolled": true
   },
   "outputs": [
    {
     "name": "stdout",
     "output_type": "stream",
     "text": [
      "Train on 600512 samples, validate on 15000 samples\n",
      "Epoch 1/30\n",
      "600512/600512 [==============================] - 13s 22us/sample - loss: 0.1809 - f1_m: 0.9311 - val_loss: 0.0264 - val_f1_m: 0.9960\n",
      "Epoch 2/30\n",
      "600512/600512 [==============================] - 10s 17us/sample - loss: 0.0517 - f1_m: 0.9846 - val_loss: 0.0171 - val_f1_m: 0.9977\n",
      "Epoch 3/30\n",
      "600512/600512 [==============================] - 11s 18us/sample - loss: 0.0365 - f1_m: 0.9894 - val_loss: 0.0175 - val_f1_m: 0.9979\n",
      "Epoch 4/30\n",
      "600512/600512 [==============================] - 11s 18us/sample - loss: 0.0284 - f1_m: 0.9917 - val_loss: 0.0095 - val_f1_m: 0.9984\n",
      "Epoch 5/30\n",
      "600512/600512 [==============================] - 11s 18us/sample - loss: 0.0220 - f1_m: 0.9937 - val_loss: 0.0122 - val_f1_m: 0.9980\n",
      "Epoch 6/30\n",
      "600512/600512 [==============================] - 11s 18us/sample - loss: 0.0194 - f1_m: 0.9944 - val_loss: 0.0119 - val_f1_m: 0.9981\n",
      "Epoch 7/30\n",
      "600512/600512 [==============================] - 11s 18us/sample - loss: 0.0159 - f1_m: 0.9953 - val_loss: 0.0172 - val_f1_m: 0.9966\n",
      "Epoch 8/30\n",
      "600512/600512 [==============================] - 11s 18us/sample - loss: 0.0155 - f1_m: 0.9954 - val_loss: 0.0107 - val_f1_m: 0.9986\n",
      "Epoch 9/30\n",
      "600512/600512 [==============================] - 11s 18us/sample - loss: 0.0139 - f1_m: 0.9959 - val_loss: 0.0082 - val_f1_m: 0.9989\n",
      "Epoch 10/30\n",
      "600512/600512 [==============================] - 11s 18us/sample - loss: 0.0128 - f1_m: 0.9962 - val_loss: 0.0092 - val_f1_m: 0.9988\n",
      "Epoch 11/30\n",
      "600512/600512 [==============================] - 11s 18us/sample - loss: 0.0111 - f1_m: 0.9966 - val_loss: 0.0064 - val_f1_m: 0.9991\n",
      "Epoch 12/30\n",
      "600512/600512 [==============================] - 11s 18us/sample - loss: 0.0101 - f1_m: 0.9969 - val_loss: 0.0085 - val_f1_m: 0.9987\n",
      "Epoch 13/30\n",
      "600512/600512 [==============================] - 11s 18us/sample - loss: 0.0086 - f1_m: 0.9974 - val_loss: 0.0081 - val_f1_m: 0.9987\n",
      "Epoch 14/30\n",
      "600512/600512 [==============================] - 11s 18us/sample - loss: 0.0085 - f1_m: 0.9974 - val_loss: 0.0154 - val_f1_m: 0.9976\n",
      "Epoch 15/30\n",
      "600512/600512 [==============================] - 11s 18us/sample - loss: 0.0077 - f1_m: 0.9977 - val_loss: 0.0080 - val_f1_m: 0.9990\n",
      "Epoch 16/30\n",
      "600512/600512 [==============================] - 11s 18us/sample - loss: 0.0072 - f1_m: 0.9977 - val_loss: 0.0068 - val_f1_m: 0.9989\n",
      "Epoch 17/30\n",
      "600512/600512 [==============================] - 11s 18us/sample - loss: 0.0071 - f1_m: 0.9978 - val_loss: 0.0074 - val_f1_m: 0.9988\n",
      "Epoch 18/30\n",
      "600512/600512 [==============================] - 11s 18us/sample - loss: 0.0065 - f1_m: 0.9980 - val_loss: 0.0143 - val_f1_m: 0.9975\n",
      "Epoch 19/30\n",
      "600512/600512 [==============================] - 11s 18us/sample - loss: 0.0064 - f1_m: 0.9980 - val_loss: 0.0158 - val_f1_m: 0.9976\n",
      "Epoch 20/30\n",
      "600512/600512 [==============================] - 11s 18us/sample - loss: 0.0056 - f1_m: 0.9983 - val_loss: 0.0043 - val_f1_m: 0.9991\n",
      "Epoch 21/30\n",
      "600512/600512 [==============================] - 11s 18us/sample - loss: 0.0050 - f1_m: 0.9984 - val_loss: 0.0079 - val_f1_m: 0.9986\n",
      "Epoch 22/30\n",
      "600512/600512 [==============================] - 11s 18us/sample - loss: 0.0045 - f1_m: 0.9986 - val_loss: 0.0098 - val_f1_m: 0.9989\n",
      "Epoch 23/30\n",
      "600512/600512 [==============================] - 11s 18us/sample - loss: 0.0047 - f1_m: 0.9985 - val_loss: 0.0106 - val_f1_m: 0.9987\n",
      "Epoch 24/30\n",
      "600512/600512 [==============================] - 11s 18us/sample - loss: 0.0048 - f1_m: 0.9984 - val_loss: 0.0067 - val_f1_m: 0.9988\n",
      "Epoch 25/30\n",
      "600512/600512 [==============================] - 11s 18us/sample - loss: 0.0049 - f1_m: 0.9983 - val_loss: 0.0183 - val_f1_m: 0.9970\n",
      "Epoch 26/30\n",
      "600512/600512 [==============================] - 11s 18us/sample - loss: 0.0069 - f1_m: 0.9978 - val_loss: 0.0100 - val_f1_m: 0.9982\n",
      "Epoch 27/30\n",
      "600512/600512 [==============================] - 11s 18us/sample - loss: 0.0047 - f1_m: 0.9985 - val_loss: 0.0122 - val_f1_m: 0.9980\n",
      "Epoch 28/30\n",
      "600512/600512 [==============================] - 11s 18us/sample - loss: 0.0044 - f1_m: 0.9986 - val_loss: 0.0176 - val_f1_m: 0.9972\n",
      "Epoch 29/30\n",
      "600512/600512 [==============================] - 11s 18us/sample - loss: 0.0043 - f1_m: 0.9987 - val_loss: 0.0072 - val_f1_m: 0.9988\n",
      "Epoch 30/30\n",
      "600512/600512 [==============================] - 11s 18us/sample - loss: 0.0036 - f1_m: 0.9989 - val_loss: 0.0115 - val_f1_m: 0.9982\n",
      "0.9981967541574834\n"
     ]
    }
   ],
   "source": [
    "tf.keras.backend.clear_session()  # For easy reset of notebook state.\n",
    "model = Sequential()\n",
    "model.add(Dense(1024, activation='relu'))\n",
    "model.add(Dropout(0.1))\n",
    "model.add(Dense(128, activation='relu'))\n",
    "model.add(Dropout(0.1))\n",
    "model.add(Dense(32, activation='relu'))\n",
    "model.add(Dropout(0.1))\n",
    "model.add(Dense(1, activation='sigmoid'))\n",
    "model.compile(optimizer='adam', loss='binary_crossentropy',\n",
    "              metrics=[f1_m])\n",
    "bs = 10000\n",
    "n_epochs = 30\n",
    "history = model.fit(x_train, y_train,\n",
    "                    batch_size=bs, epochs=n_epochs,\n",
    "                    validation_data=(x_val, y_val))\n",
    "y_pred = model.predict(x_val)\n",
    "y_pred = np.where(y_pred >0.5, 1, 0)\n",
    "score = sklearn.metrics.f1_score(y_val, y_pred)\n",
    "print(score)\n",
    "dico_score['all_features_neural_network_1'] = score"
   ]
  },
  {
   "cell_type": "markdown",
   "metadata": {},
   "source": [
    "### Update neural network "
   ]
  },
  {
   "cell_type": "code",
   "execution_count": 90,
   "metadata": {
    "scrolled": true
   },
   "outputs": [
    {
     "name": "stdout",
     "output_type": "stream",
     "text": [
      "Train on 600512 samples, validate on 15000 samples\n",
      "Epoch 1/40\n",
      "600512/600512 [==============================] - 18s 29us/sample - loss: 0.2691 - f1_m: 0.8870 - val_loss: 0.0448 - val_f1_m: 0.9924\n",
      "Epoch 2/40\n",
      "600512/600512 [==============================] - 17s 28us/sample - loss: 0.0558 - f1_m: 0.9841 - val_loss: 0.0248 - val_f1_m: 0.9966\n",
      "Epoch 3/40\n",
      "600512/600512 [==============================] - 18s 29us/sample - loss: 0.0376 - f1_m: 0.9895 - val_loss: 0.0157 - val_f1_m: 0.9981\n",
      "Epoch 4/40\n",
      "600512/600512 [==============================] - 16s 27us/sample - loss: 0.0294 - f1_m: 0.9917 - val_loss: 0.0086 - val_f1_m: 0.9987\n",
      "Epoch 5/40\n",
      "600512/600512 [==============================] - 16s 27us/sample - loss: 0.0248 - f1_m: 0.9929 - val_loss: 0.0068 - val_f1_m: 0.9994\n",
      "Epoch 6/40\n",
      "600512/600512 [==============================] - 17s 28us/sample - loss: 0.0215 - f1_m: 0.9939 - val_loss: 0.0079 - val_f1_m: 0.9991\n",
      "Epoch 7/40\n",
      "600512/600512 [==============================] - 17s 28us/sample - loss: 0.0179 - f1_m: 0.9950 - val_loss: 0.0065 - val_f1_m: 0.9993\n",
      "Epoch 8/40\n",
      "600512/600512 [==============================] - 16s 27us/sample - loss: 0.0148 - f1_m: 0.9958 - val_loss: 0.0057 - val_f1_m: 0.9991\n",
      "Epoch 9/40\n",
      "600512/600512 [==============================] - 16s 27us/sample - loss: 0.0137 - f1_m: 0.9960 - val_loss: 0.0097 - val_f1_m: 0.9986\n",
      "Epoch 10/40\n",
      "600512/600512 [==============================] - 16s 26us/sample - loss: 0.0133 - f1_m: 0.9960 - val_loss: 0.0069 - val_f1_m: 0.9991\n",
      "Epoch 11/40\n",
      "600512/600512 [==============================] - 16s 26us/sample - loss: 0.0138 - f1_m: 0.9959 - val_loss: 0.0044 - val_f1_m: 0.9995\n",
      "Epoch 12/40\n",
      "600512/600512 [==============================] - 16s 26us/sample - loss: 0.0120 - f1_m: 0.9965 - val_loss: 0.0059 - val_f1_m: 0.9992\n",
      "Epoch 13/40\n",
      "600512/600512 [==============================] - 16s 26us/sample - loss: 0.0096 - f1_m: 0.9972 - val_loss: 0.0051 - val_f1_m: 0.9993\n",
      "Epoch 14/40\n",
      "600512/600512 [==============================] - 16s 26us/sample - loss: 0.0091 - f1_m: 0.9972 - val_loss: 0.0066 - val_f1_m: 0.9989\n",
      "Epoch 15/40\n",
      "600512/600512 [==============================] - 16s 26us/sample - loss: 0.0091 - f1_m: 0.9972 - val_loss: 0.0037 - val_f1_m: 0.9995\n",
      "Epoch 16/40\n",
      "600512/600512 [==============================] - 16s 26us/sample - loss: 0.0098 - f1_m: 0.9970 - val_loss: 0.0059 - val_f1_m: 0.9992\n",
      "Epoch 17/40\n",
      "600512/600512 [==============================] - 16s 26us/sample - loss: 0.0074 - f1_m: 0.9978 - val_loss: 0.0051 - val_f1_m: 0.9993\n",
      "Epoch 18/40\n",
      "600512/600512 [==============================] - 16s 26us/sample - loss: 0.0085 - f1_m: 0.9974 - val_loss: 0.0064 - val_f1_m: 0.9990\n",
      "Epoch 19/40\n",
      "600512/600512 [==============================] - 16s 26us/sample - loss: 0.0065 - f1_m: 0.9981 - val_loss: 0.0052 - val_f1_m: 0.9991\n",
      "Epoch 20/40\n",
      "600512/600512 [==============================] - 16s 26us/sample - loss: 0.0064 - f1_m: 0.9979 - val_loss: 0.0044 - val_f1_m: 0.9994\n",
      "Epoch 21/40\n",
      "600512/600512 [==============================] - 16s 26us/sample - loss: 0.0060 - f1_m: 0.9982 - val_loss: 0.0041 - val_f1_m: 0.9994\n",
      "Epoch 22/40\n",
      "600512/600512 [==============================] - 16s 26us/sample - loss: 0.0053 - f1_m: 0.9983 - val_loss: 0.0080 - val_f1_m: 0.9988\n",
      "Epoch 23/40\n",
      "600512/600512 [==============================] - 16s 26us/sample - loss: 0.0071 - f1_m: 0.9978 - val_loss: 0.0045 - val_f1_m: 0.9994\n",
      "Epoch 24/40\n",
      "600512/600512 [==============================] - 16s 26us/sample - loss: 0.0060 - f1_m: 0.9982 - val_loss: 0.0032 - val_f1_m: 0.9996\n",
      "Epoch 25/40\n",
      "600512/600512 [==============================] - 16s 26us/sample - loss: 0.0051 - f1_m: 0.9984 - val_loss: 0.0049 - val_f1_m: 0.9993\n",
      "Epoch 26/40\n",
      "600512/600512 [==============================] - 16s 26us/sample - loss: 0.0053 - f1_m: 0.9982 - val_loss: 0.0055 - val_f1_m: 0.9993\n",
      "Epoch 27/40\n",
      "600512/600512 [==============================] - 16s 26us/sample - loss: 0.0067 - f1_m: 0.9979 - val_loss: 0.0071 - val_f1_m: 0.9991\n",
      "Epoch 28/40\n",
      "600512/600512 [==============================] - 16s 26us/sample - loss: 0.0060 - f1_m: 0.9981 - val_loss: 0.0031 - val_f1_m: 0.9995\n",
      "Epoch 29/40\n",
      "600512/600512 [==============================] - 16s 26us/sample - loss: 0.0051 - f1_m: 0.9984 - val_loss: 0.0090 - val_f1_m: 0.9987\n",
      "Epoch 30/40\n",
      "600512/600512 [==============================] - 16s 26us/sample - loss: 0.0057 - f1_m: 0.9982 - val_loss: 0.0053 - val_f1_m: 0.9993\n",
      "Epoch 31/40\n",
      "600512/600512 [==============================] - 16s 26us/sample - loss: 0.0045 - f1_m: 0.9986 - val_loss: 0.0029 - val_f1_m: 0.9995\n",
      "Epoch 32/40\n",
      "600512/600512 [==============================] - 16s 26us/sample - loss: 0.0043 - f1_m: 0.9986 - val_loss: 0.0024 - val_f1_m: 0.9997\n",
      "Epoch 33/40\n",
      "600512/600512 [==============================] - 16s 26us/sample - loss: 0.0040 - f1_m: 0.9987 - val_loss: 0.0023 - val_f1_m: 0.9996\n",
      "Epoch 34/40\n",
      "600512/600512 [==============================] - 16s 26us/sample - loss: 0.0038 - f1_m: 0.9988 - val_loss: 0.0024 - val_f1_m: 0.9996\n",
      "Epoch 35/40\n",
      "600512/600512 [==============================] - 16s 26us/sample - loss: 0.0047 - f1_m: 0.9986 - val_loss: 0.0046 - val_f1_m: 0.9993\n",
      "Epoch 36/40\n",
      "600512/600512 [==============================] - 16s 26us/sample - loss: 0.0036 - f1_m: 0.9989 - val_loss: 0.0039 - val_f1_m: 0.9995\n",
      "Epoch 37/40\n",
      "600512/600512 [==============================] - 16s 26us/sample - loss: 0.0038 - f1_m: 0.9988 - val_loss: 0.0028 - val_f1_m: 0.9995\n",
      "Epoch 38/40\n",
      "600512/600512 [==============================] - 16s 26us/sample - loss: 0.0037 - f1_m: 0.9988 - val_loss: 0.0044 - val_f1_m: 0.9994\n",
      "Epoch 39/40\n",
      "600512/600512 [==============================] - 16s 26us/sample - loss: 0.0039 - f1_m: 0.9988 - val_loss: 0.0012 - val_f1_m: 0.9997\n",
      "Epoch 40/40\n",
      "600512/600512 [==============================] - 16s 26us/sample - loss: 0.0036 - f1_m: 0.9989 - val_loss: 0.0033 - val_f1_m: 0.9995\n",
      "0.9995664788074832\n"
     ]
    }
   ],
   "source": [
    "#Input image\n",
    "input_emb = Input(shape=(256,))\n",
    "input_attr = Input(shape=(16,))\n",
    "\n",
    "encoded_1 = Dense(units=1024, activation='relu')(input_emb)\n",
    "encoded_1 = Dropout(0.1)(encoded_1)\n",
    "encoded_2 = Dense(units=256, activation='relu')(encoded_1)\n",
    "encoded_2 = Dropout(0.1)(encoded_2)\n",
    "encoded_2 = Dense(units=64, activation='relu')(encoded_2)\n",
    "encoded_2 = Dropout(0.1)(encoded_2)\n",
    "encoded = Concatenate()([encoded_2, input_attr])\n",
    "output = Dense(units=16, activation='relu')(encoded)\n",
    "output = Dropout(0.1)(output)\n",
    "output = Dense(units=1, activation='sigmoid', name='autoencoder')(output)\n",
    "\n",
    "autoencoder = Model(inputs = [input_emb, input_attr], outputs = output)\n",
    "autoencoder.compile(optimizer='adam',\n",
    "                    loss='binary_crossentropy',\n",
    "                    metrics= [f1_m])\n",
    "\n",
    "history = autoencoder.fit([node_emb, train], y_train,\n",
    "                epochs=40,\n",
    "                batch_size=10000,\n",
    "                validation_data=([omitted_emb, val], y_val))\n",
    "y_pred = autoencoder.predict([omitted_emb, val])[:, 0]\n",
    "y_pred = np.where(y_pred >0.5, 1, 0)\n",
    "score = sklearn.metrics.f1_score(y_val, y_pred)\n",
    "print(score)\n",
    "dico_score['all_features_neural_network_2'] = score"
   ]
  },
  {
   "cell_type": "code",
   "execution_count": 92,
   "metadata": {},
   "outputs": [
    {
     "data": {
      "text/plain": [
       "(0.877, 1.01)"
      ]
     },
     "execution_count": 92,
     "metadata": {},
     "output_type": "execute_result"
    },
    {
     "data": {
      "image/png": "[encoded data removed]",
      "text/plain": [
       "<Figure size 432x288 with 1 Axes>"
      ]
     },
     "metadata": {
      "needs_background": "light"
     },
     "output_type": "display_data"
    }
   ],
   "source": [
    "import matplotlib.pyplot as plt\n",
    "scores = pd.DataFrame.from_dict(dico_score, orient='index')\n",
    "scores.columns = ['score']\n",
    "scores.plot(kind='bar');\n",
    "plt.ylim(0.877, 1.01)"
   ]
  },
  {
   "cell_type": "code",
   "execution_count": 95,
   "metadata": {},
   "outputs": [
    {
     "data": {
      "text/html": [
       "<div>\n",
       "<style scoped>\n",
       "    .dataframe tbody tr th:only-of-type {\n",
       "        vertical-align: middle;\n",
       "    }\n",
       "\n",
       "    .dataframe tbody tr th {\n",
       "        vertical-align: top;\n",
       "    }\n",
       "\n",
       "    .dataframe thead th {\n",
       "        text-align: right;\n",
       "    }\n",
       "</style>\n",
       "<table border=\"1\" class=\"dataframe\">\n",
       "  <thead>\n",
       "    <tr style=\"text-align: right;\">\n",
       "      <th></th>\n",
       "      <th>score</th>\n",
       "    </tr>\n",
       "  </thead>\n",
       "  <tbody>\n",
       "    <tr>\n",
       "      <td>all_features_neural_network_2</td>\n",
       "      <td>0.999566</td>\n",
       "    </tr>\n",
       "    <tr>\n",
       "      <td>node2vec_alone_neural_network</td>\n",
       "      <td>0.999333</td>\n",
       "    </tr>\n",
       "    <tr>\n",
       "      <td>all_features_neural_network_1</td>\n",
       "      <td>0.998197</td>\n",
       "    </tr>\n",
       "    <tr>\n",
       "      <td>graph_attribut_neural_network</td>\n",
       "      <td>0.974219</td>\n",
       "    </tr>\n",
       "    <tr>\n",
       "      <td>graph_attribut_xgboost</td>\n",
       "      <td>0.972251</td>\n",
       "    </tr>\n",
       "    <tr>\n",
       "      <td>graph_structure_xgboost</td>\n",
       "      <td>0.961866</td>\n",
       "    </tr>\n",
       "    <tr>\n",
       "      <td>graph_attribut_logistic</td>\n",
       "      <td>0.957320</td>\n",
       "    </tr>\n",
       "    <tr>\n",
       "      <td>node_attribut_svm</td>\n",
       "      <td>0.955614</td>\n",
       "    </tr>\n",
       "    <tr>\n",
       "      <td>graph_structure_logistic</td>\n",
       "      <td>0.921562</td>\n",
       "    </tr>\n",
       "    <tr>\n",
       "      <td>node_attribut_xgboost</td>\n",
       "      <td>0.921406</td>\n",
       "    </tr>\n",
       "    <tr>\n",
       "      <td>graph_structure_svm</td>\n",
       "      <td>0.914656</td>\n",
       "    </tr>\n",
       "    <tr>\n",
       "      <td>node_attribut_logistic</td>\n",
       "      <td>0.877750</td>\n",
       "    </tr>\n",
       "  </tbody>\n",
       "</table>\n",
       "</div>"
      ],
      "text/plain": [
       "                                  score\n",
       "all_features_neural_network_2  0.999566\n",
       "node2vec_alone_neural_network  0.999333\n",
       "all_features_neural_network_1  0.998197\n",
       "graph_attribut_neural_network  0.974219\n",
       "graph_attribut_xgboost         0.972251\n",
       "graph_structure_xgboost        0.961866\n",
       "graph_attribut_logistic        0.957320\n",
       "node_attribut_svm              0.955614\n",
       "graph_structure_logistic       0.921562\n",
       "node_attribut_xgboost          0.921406\n",
       "graph_structure_svm            0.914656\n",
       "node_attribut_logistic         0.877750"
      ]
     },
     "execution_count": 95,
     "metadata": {},
     "output_type": "execute_result"
    }
   ],
   "source": [
    "np.save('scores', scores)\n",
    "scores.sort_values(by = 'score', ascending=False)"
   ]
  },
  {
   "cell_type": "markdown",
   "metadata": {},
   "source": [
    "## Prédiction sur les données test"
   ]
  },
  {
   "cell_type": "code",
   "execution_count": 63,
   "metadata": {},
   "outputs": [],
   "source": [
    "data_test = pd.DataFrame({'node_1':[int(elt[0]) for elt in testing_set], \n",
    "                     'node_2':[int(elt[1]) for elt in testing_set]})\n",
    "emb_test = get_node_emb(data_test)"
   ]
  },
  {
   "cell_type": "code",
   "execution_count": 64,
   "metadata": {},
   "outputs": [
    {
     "name": "stderr",
     "output_type": "stream",
     "text": [
      "100%|██████████| 32648/32648 [00:29<00:00, 1119.95it/s]\n"
     ]
    }
   ],
   "source": [
    "pairs_test = [tuple(elt[0 : 2]) for elt in testing_set]\n",
    "with Pool(4) as p: \n",
    "    features_test = p.map(get_features, pairs_test)\n",
    "features_test = np.array(features_test)\n",
    "test_tr = []\n",
    "for elt in tqdm.tqdm(pairs_test) :\n",
    "    test_tr.append(get_graph_feature(elt))\n",
    "test_tr = np.asarray(test_tr)"
   ]
  },
  {
   "cell_type": "code",
   "execution_count": 65,
   "metadata": {},
   "outputs": [],
   "source": [
    "# print(train.shape, test.shape)\n",
    "test = np.hstack((test_tr, features_test))\n",
    "test = scaler.transform(test)\n",
    "x_test = np.hstack([emb_test, test])\n",
    "y_test = model.predict(x_test)[:, 0]\n",
    "y_test_1 = np.where(y_test > 0.5, 1, 0)"
   ]
  },
  {
   "cell_type": "code",
   "execution_count": 66,
   "metadata": {},
   "outputs": [
    {
     "name": "stdout",
     "output_type": "stream",
     "text": [
      "(600512, 16) (32648, 16)\n"
     ]
    }
   ],
   "source": [
    "## prédiction sur le test\n",
    "test = np.hstack((test_tr, features_test))\n",
    "test = scaler.transform(test)\n",
    "print(train.shape, test.shape)\n",
    "y_test = autoencoder.predict([emb_test, test])[:, 0]\n",
    "y_test_2 = np.where(y_test > 0.5, 1, 0)"
   ]
  },
  {
   "cell_type": "code",
   "execution_count": 67,
   "metadata": {},
   "outputs": [],
   "source": [
    "## Sauvegarde des prédictions\n",
    "predictions_SVM = zip(range(len(testing_set)), y_test_1)\n",
    "with open(\"predictions_1.csv\",\"w\") as pred1:\n",
    "    csv_out = csv.writer(pred1)\n",
    "    csv_out.writerow(('id', 'category'))\n",
    "    for row in predictions_SVM:\n",
    "        csv_out.writerow(row)"
   ]
  },
  {
   "cell_type": "code",
   "execution_count": 68,
   "metadata": {},
   "outputs": [],
   "source": [
    "predictions_SVM = zip(range(len(testing_set)), y_test_2)\n",
    "with open(\"predictions_2.csv\",\"w\") as pred1:\n",
    "    csv_out = csv.writer(pred1)\n",
    "    csv_out.writerow(('id', 'category'))\n",
    "    for row in predictions_SVM:\n",
    "        csv_out.writerow(row)"
   ]
  },
  {
   "cell_type": "code",
   "execution_count": null,
   "metadata": {},
   "outputs": [],
   "source": []
  },
  {
   "cell_type": "code",
   "execution_count": null,
   "metadata": {},
   "outputs": [],
   "source": []
  },
  {
   "cell_type": "code",
   "execution_count": null,
   "metadata": {},
   "outputs": [],
   "source": []
  }
 ],
 "metadata": {
  "kernelspec": {
   "display_name": "Python 3",
   "language": "python",
   "name": "python3"
  },
  "language_info": {
   "codemirror_mode": {
    "name": "ipython",
    "version": 3
   },
   "file_extension": ".py",
   "mimetype": "text/x-python",
   "name": "python",
   "nbconvert_exporter": "python",
   "pygments_lexer": "ipython3",
   "version": "3.7.3"
  }
 },
 "nbformat": 4,
 "nbformat_minor": 2
}
